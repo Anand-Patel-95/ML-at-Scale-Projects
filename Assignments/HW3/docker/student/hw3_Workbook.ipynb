{
 "cells": [
  {
   "cell_type": "code",
   "execution_count": 1,
   "metadata": {},
   "outputs": [
    {
     "name": "stdout",
     "output_type": "stream",
     "text": [
      "/\n"
     ]
    }
   ],
   "source": [
    "!pwd"
   ]
  },
  {
   "cell_type": "markdown",
   "metadata": {},
   "source": [
    "## Setting the directory for DataProc"
   ]
  },
  {
   "cell_type": "code",
   "execution_count": 2,
   "metadata": {},
   "outputs": [
    {
     "name": "stdout",
     "output_type": "stream",
     "text": [
      "/media/w261-s22-Anand-Patel-95/Assignments/HW3/docker/student\n"
     ]
    }
   ],
   "source": [
    "%cd /media/w261-s22-Anand-Patel-95/Assignments/HW3/docker/student/"
   ]
  },
  {
   "cell_type": "code",
   "execution_count": 3,
   "metadata": {},
   "outputs": [
    {
     "name": "stdout",
     "output_type": "stream",
     "text": [
      "/media/w261-s22-Anand-Patel-95/Assignments/HW3/docker/student\n"
     ]
    }
   ],
   "source": [
    "!pwd"
   ]
  },
  {
   "cell_type": "markdown",
   "metadata": {},
   "source": [
    "## Getting the data"
   ]
  },
  {
   "cell_type": "code",
   "execution_count": 1,
   "metadata": {},
   "outputs": [
    {
     "name": "stdout",
     "output_type": "stream",
     "text": [
      "/bin/bash: gsutil: command not found\n"
     ]
    }
   ],
   "source": [
    "!gsutil ls gs://w261-hw-data/main/Assignments/HW3/docker/student/"
   ]
  },
  {
   "cell_type": "code",
   "execution_count": 11,
   "metadata": {},
   "outputs": [
    {
     "name": "stdout",
     "output_type": "stream",
     "text": [
      "Copying gs://w261-hw-data/main/Assignments/HW3/docker/student/ngrams.zip...\n",
      "==> NOTE: You are downloading one or more large file(s), which would            \n",
      "run significantly faster if you enabled sliced object downloads. This\n",
      "feature is enabled by default but requires that compiled crcmod be\n",
      "installed (see \"gsutil help crcmod\").\n",
      "\n",
      "- [1 files][689.8 MiB/689.8 MiB]                                                \n",
      "Operation completed over 1 objects/689.8 MiB.                                    \n"
     ]
    }
   ],
   "source": [
    "!gsutil cp gs://w261-hw-data/main/Assignments/HW3/docker/student/ngrams.zip ."
   ]
  },
  {
   "cell_type": "code",
   "execution_count": 12,
   "metadata": {},
   "outputs": [
    {
     "name": "stdout",
     "output_type": "stream",
     "text": [
      "Archive:  ngrams.zip\n",
      "   creating: data/\n",
      "  inflating: data/googlebooks-eng-all-5gram-20090715-171-filtered.txt  \n",
      "  inflating: data/googlebooks-eng-all-5gram-20090715-124-filtered.txt  \n",
      "  inflating: data/googlebooks-eng-all-5gram-20090715-189-filtered.txt  \n",
      "  inflating: data/googlebooks-eng-all-5gram-20090715-176-filtered.txt  \n",
      "  inflating: data/googlebooks-eng-all-5gram-20090715-123-filtered.txt  \n",
      "  inflating: data/googlebooks-eng-all-5gram-20090715-59-filtered.txt  \n",
      "  inflating: data/googlebooks-eng-all-5gram-20090715-19-filtered.txt  \n",
      "  inflating: data/googlebooks-eng-all-5gram-20090715-163-filtered.txt  \n",
      "  inflating: data/googlebooks-eng-all-5gram-20090715-136-filtered.txt  \n",
      "  inflating: data/googlebooks-eng-all-5gram-20090715-164-filtered.txt  \n",
      "  inflating: data/googlebooks-eng-all-5gram-20090715-131-filtered.txt  \n",
      "  inflating: data/googlebooks-eng-all-5gram-20090715-82-filtered.txt  \n",
      "  inflating: data/googlebooks-eng-all-5gram-20090715-28-filtered.txt  \n",
      "  inflating: data/googlebooks-eng-all-5gram-20090715-152-filtered.txt  \n",
      "  inflating: data/googlebooks-eng-all-5gram-20090715-107-filtered.txt  \n",
      "  inflating: data/googlebooks-eng-all-5gram-20090715-85-filtered.txt  \n",
      "  inflating: data/googlebooks-eng-all-5gram-20090715-155-filtered.txt  \n",
      "  inflating: data/googlebooks-eng-all-5gram-20090715-100-filtered.txt  \n",
      "  inflating: data/googlebooks-eng-all-5gram-20090715-140-filtered.txt  \n",
      "  inflating: data/googlebooks-eng-all-5gram-20090715-115-filtered.txt  \n",
      "  inflating: data/googlebooks-eng-all-5gram-20090715-90-filtered.txt  \n",
      "  inflating: data/googlebooks-eng-all-5gram-20090715-147-filtered.txt  \n",
      "  inflating: data/googlebooks-eng-all-5gram-20090715-112-filtered.txt  \n",
      "  inflating: data/googlebooks-eng-all-5gram-20090715-97-filtered.txt  \n",
      "  inflating: data/googlebooks-eng-all-5gram-20090715-68-filtered.txt  \n",
      "  inflating: data/googlebooks-eng-all-5gram-20090715-130-filtered.txt  \n",
      "  inflating: data/googlebooks-eng-all-5gram-20090715-165-filtered.txt  \n",
      "  inflating: data/googlebooks-eng-all-5gram-20090715-137-filtered.txt  \n",
      "  inflating: data/googlebooks-eng-all-5gram-20090715-162-filtered.txt  \n",
      "  inflating: data/googlebooks-eng-all-5gram-20090715-18-filtered.txt  \n",
      "  inflating: data/googlebooks-eng-all-5gram-20090715-58-filtered.txt  \n",
      "  inflating: data/googlebooks-eng-all-5gram-20090715-122-filtered.txt  \n",
      "  inflating: data/googlebooks-eng-all-5gram-20090715-177-filtered.txt  \n",
      "  inflating: data/googlebooks-eng-all-5gram-20090715-188-filtered.txt  \n",
      "  inflating: data/googlebooks-eng-all-5gram-20090715-125-filtered.txt  \n",
      "  inflating: data/googlebooks-eng-all-5gram-20090715-170-filtered.txt  \n",
      "  inflating: data/googlebooks-eng-all-5gram-20090715-69-filtered.txt  \n",
      "  inflating: data/googlebooks-eng-all-5gram-20090715-96-filtered.txt  \n",
      "  inflating: data/googlebooks-eng-all-5gram-20090715-113-filtered.txt  \n",
      "  inflating: data/googlebooks-eng-all-5gram-20090715-146-filtered.txt  \n",
      "  inflating: data/googlebooks-eng-all-5gram-20090715-91-filtered.txt  \n",
      "  inflating: data/googlebooks-eng-all-5gram-20090715-114-filtered.txt  \n",
      "  inflating: data/googlebooks-eng-all-5gram-20090715-141-filtered.txt  \n",
      "  inflating: data/googlebooks-eng-all-5gram-20090715-101-filtered.txt  \n",
      "  inflating: data/googlebooks-eng-all-5gram-20090715-154-filtered.txt  \n",
      "  inflating: data/googlebooks-eng-all-5gram-20090715-84-filtered.txt  \n",
      "  inflating: data/googlebooks-eng-all-5gram-20090715-106-filtered.txt  \n",
      "  inflating: data/googlebooks-eng-all-5gram-20090715-153-filtered.txt  \n",
      "  inflating: data/googlebooks-eng-all-5gram-20090715-29-filtered.txt  \n",
      "  inflating: data/googlebooks-eng-all-5gram-20090715-83-filtered.txt  \n",
      "  inflating: data/googlebooks-eng-all-5gram-20090715-6-filtered.txt  \n",
      "  inflating: data/googlebooks-eng-all-5gram-20090715-89-filtered.txt  \n",
      "  inflating: data/googlebooks-eng-all-5gram-20090715-76-filtered.txt  \n",
      "  inflating: data/googlebooks-eng-all-5gram-20090715-23-filtered.txt  \n",
      "  inflating: data/googlebooks-eng-all-5gram-20090715-159-filtered.txt  \n",
      " extracting: data/googlebooks-eng-all-5gram-20090715-1-filtered.txt  \n",
      "  inflating: data/googlebooks-eng-all-5gram-20090715-71-filtered.txt  \n",
      "  inflating: data/googlebooks-eng-all-5gram-20090715-24-filtered.txt  \n",
      "  inflating: data/googlebooks-eng-all-5gram-20090715-64-filtered.txt  \n",
      "  inflating: data/googlebooks-eng-all-5gram-20090715-31-filtered.txt  \n",
      "  inflating: data/googlebooks-eng-all-5gram-20090715-119-filtered.txt  \n",
      "  inflating: data/googlebooks-eng-all-5gram-20090715-63-filtered.txt  \n",
      "  inflating: data/googlebooks-eng-all-5gram-20090715-36-filtered.txt  \n",
      "  inflating: data/googlebooks-eng-all-5gram-20090715-185-filtered.txt  \n",
      "  inflating: data/googlebooks-eng-all-5gram-20090715-55-filtered.txt  \n",
      "  inflating: data/googlebooks-eng-all-5gram-20090715-182-filtered.txt  \n",
      "  inflating: data/googlebooks-eng-all-5gram-20090715-128-filtered.txt  \n",
      "  inflating: data/googlebooks-eng-all-5gram-20090715-52-filtered.txt  \n",
      "  inflating: data/googlebooks-eng-all-5gram-20090715-47-filtered.txt  \n",
      "  inflating: data/googlebooks-eng-all-5gram-20090715-12-filtered.txt  \n",
      "  inflating: data/googlebooks-eng-all-5gram-20090715-168-filtered.txt  \n",
      "  inflating: data/googlebooks-eng-all-5gram-20090715-40-filtered.txt  \n",
      "  inflating: data/googlebooks-eng-all-5gram-20090715-15-filtered.txt  \n",
      "  inflating: data/googlebooks-eng-all-5gram-20090715-37-filtered.txt  \n",
      "  inflating: data/googlebooks-eng-all-5gram-20090715-62-filtered.txt  \n",
      "  inflating: data/googlebooks-eng-all-5gram-20090715-118-filtered.txt  \n",
      "  inflating: data/googlebooks-eng-all-5gram-20090715-30-filtered.txt  \n",
      "  inflating: data/googlebooks-eng-all-5gram-20090715-65-filtered.txt  \n",
      "  inflating: data/googlebooks-eng-all-5gram-20090715-25-filtered.txt  \n",
      "  inflating: data/googlebooks-eng-all-5gram-20090715-70-filtered.txt  \n",
      "  inflating: data/googlebooks-eng-all-5gram-20090715-0-filtered.txt  \n",
      "  inflating: data/googlebooks-eng-all-5gram-20090715-158-filtered.txt  \n",
      "  inflating: data/googlebooks-eng-all-5gram-20090715-22-filtered.txt  \n",
      "  inflating: data/googlebooks-eng-all-5gram-20090715-77-filtered.txt  \n",
      "  inflating: data/googlebooks-eng-all-5gram-20090715-88-filtered.txt  \n",
      "  inflating: data/googlebooks-eng-all-5gram-20090715-7-filtered.txt  \n",
      "  inflating: data/googlebooks-eng-all-5gram-20090715-14-filtered.txt  \n",
      "  inflating: data/googlebooks-eng-all-5gram-20090715-41-filtered.txt  \n",
      "  inflating: data/googlebooks-eng-all-5gram-20090715-169-filtered.txt  \n",
      "  inflating: data/googlebooks-eng-all-5gram-20090715-13-filtered.txt  \n",
      " extracting: data/googlebooks-eng-all-5gram-20090715-46-filtered.txt  \n",
      "  inflating: data/googlebooks-eng-all-5gram-20090715-53-filtered.txt  \n",
      "  inflating: data/googlebooks-eng-all-5gram-20090715-129-filtered.txt  \n",
      "  inflating: data/googlebooks-eng-all-5gram-20090715-183-filtered.txt  \n",
      "  inflating: data/googlebooks-eng-all-5gram-20090715-54-filtered.txt  \n",
      "  inflating: data/googlebooks-eng-all-5gram-20090715-184-filtered.txt  \n",
      "  inflating: data/googlebooks-eng-all-5gram-20090715-148-filtered.txt  \n",
      "  inflating: data/googlebooks-eng-all-5gram-20090715-67-filtered.txt  \n",
      "  inflating: data/googlebooks-eng-all-5gram-20090715-32-filtered.txt  \n",
      "  inflating: data/googlebooks-eng-all-5gram-20090715-98-filtered.txt  \n",
      "  inflating: data/googlebooks-eng-all-5gram-20090715-60-filtered.txt  \n",
      "  inflating: data/googlebooks-eng-all-5gram-20090715-35-filtered.txt  \n",
      "  inflating: data/googlebooks-eng-all-5gram-20090715-75-filtered.txt  \n",
      "  inflating: data/googlebooks-eng-all-5gram-20090715-20-filtered.txt  \n",
      "  inflating: data/googlebooks-eng-all-5gram-20090715-5-filtered.txt  \n",
      "  inflating: data/googlebooks-eng-all-5gram-20090715-72-filtered.txt  \n",
      "  inflating: data/googlebooks-eng-all-5gram-20090715-27-filtered.txt  \n",
      "  inflating: data/googlebooks-eng-all-5gram-20090715-2-filtered.txt  \n",
      "  inflating: data/googlebooks-eng-all-5gram-20090715-108-filtered.txt  \n",
      "  inflating: data/googlebooks-eng-all-5gram-20090715-44-filtered.txt  \n",
      "  inflating: data/googlebooks-eng-all-5gram-20090715-11-filtered.txt  \n",
      "  inflating: data/googlebooks-eng-all-5gram-20090715-43-filtered.txt  \n",
      "  inflating: data/googlebooks-eng-all-5gram-20090715-16-filtered.txt  \n",
      "  inflating: data/googlebooks-eng-all-5gram-20090715-139-filtered.txt  \n",
      "  inflating: data/googlebooks-eng-all-5gram-20090715-179-filtered.txt  \n",
      "  inflating: data/googlebooks-eng-all-5gram-20090715-186-filtered.txt  \n",
      "  inflating: data/googlebooks-eng-all-5gram-20090715-56-filtered.txt  \n",
      "  inflating: data/googlebooks-eng-all-5gram-20090715-181-filtered.txt  \n",
      "  inflating: data/googlebooks-eng-all-5gram-20090715-51-filtered.txt  \n",
      "  inflating: data/googlebooks-eng-all-5gram-20090715-109-filtered.txt  \n",
      "  inflating: data/googlebooks-eng-all-5gram-20090715-3-filtered.txt  \n",
      "  inflating: data/googlebooks-eng-all-5gram-20090715-26-filtered.txt  \n",
      "  inflating: data/googlebooks-eng-all-5gram-20090715-73-filtered.txt  \n",
      "  inflating: data/googlebooks-eng-all-5gram-20090715-4-filtered.txt  \n",
      "  inflating: data/googlebooks-eng-all-5gram-20090715-21-filtered.txt  \n",
      "  inflating: data/googlebooks-eng-all-5gram-20090715-74-filtered.txt  \n",
      "  inflating: data/googlebooks-eng-all-5gram-20090715-34-filtered.txt  \n",
      "  inflating: data/googlebooks-eng-all-5gram-20090715-61-filtered.txt  \n",
      "  inflating: data/googlebooks-eng-all-5gram-20090715-99-filtered.txt  \n",
      "  inflating: data/googlebooks-eng-all-5gram-20090715-33-filtered.txt  \n",
      "  inflating: data/googlebooks-eng-all-5gram-20090715-66-filtered.txt  \n",
      "  inflating: data/googlebooks-eng-all-5gram-20090715-149-filtered.txt  \n",
      "  inflating: data/googlebooks-eng-all-5gram-20090715-50-filtered.txt  \n",
      "  inflating: data/googlebooks-eng-all-5gram-20090715-180-filtered.txt  \n",
      "  inflating: data/googlebooks-eng-all-5gram-20090715-57-filtered.txt  \n",
      "  inflating: data/googlebooks-eng-all-5gram-20090715-187-filtered.txt  \n",
      "  inflating: data/googlebooks-eng-all-5gram-20090715-178-filtered.txt  \n",
      "  inflating: data/googlebooks-eng-all-5gram-20090715-138-filtered.txt  \n",
      "  inflating: data/googlebooks-eng-all-5gram-20090715-17-filtered.txt  \n",
      "  inflating: data/googlebooks-eng-all-5gram-20090715-42-filtered.txt  \n",
      "  inflating: data/googlebooks-eng-all-5gram-20090715-10-filtered.txt  \n",
      "  inflating: data/googlebooks-eng-all-5gram-20090715-45-filtered.txt  \n",
      "  inflating: data/googlebooks-eng-all-5gram-20090715-160-filtered.txt  \n",
      "  inflating: data/googlebooks-eng-all-5gram-20090715-135-filtered.txt  \n",
      "  inflating: data/googlebooks-eng-all-5gram-20090715-48-filtered.txt  \n",
      "  inflating: data/googlebooks-eng-all-5gram-20090715-167-filtered.txt  \n",
      "  inflating: data/googlebooks-eng-all-5gram-20090715-132-filtered.txt  \n",
      "  inflating: data/googlebooks-eng-all-5gram-20090715-172-filtered.txt  \n",
      "  inflating: data/googlebooks-eng-all-5gram-20090715-127-filtered.txt  \n",
      "  inflating: data/googlebooks-eng-all-5gram-20090715-175-filtered.txt  \n",
      "  inflating: data/googlebooks-eng-all-5gram-20090715-120-filtered.txt  \n",
      "  inflating: data/googlebooks-eng-all-5gram-20090715-143-filtered.txt  \n",
      "  inflating: data/googlebooks-eng-all-5gram-20090715-116-filtered.txt  \n",
      "  inflating: data/googlebooks-eng-all-5gram-20090715-39-filtered.txt  \n",
      "  inflating: data/googlebooks-eng-all-5gram-20090715-93-filtered.txt  \n",
      "  inflating: data/googlebooks-eng-all-5gram-20090715-144-filtered.txt  \n",
      "  inflating: data/googlebooks-eng-all-5gram-20090715-111-filtered.txt  \n",
      "  inflating: data/googlebooks-eng-all-5gram-20090715-94-filtered.txt  \n",
      "  inflating: data/googlebooks-eng-all-5gram-20090715-81-filtered.txt  \n",
      "  inflating: data/googlebooks-eng-all-5gram-20090715-151-filtered.txt  \n",
      "  inflating: data/googlebooks-eng-all-5gram-20090715-104-filtered.txt  \n",
      "  inflating: data/googlebooks-eng-all-5gram-20090715-79-filtered.txt  \n",
      "  inflating: data/googlebooks-eng-all-5gram-20090715-86-filtered.txt  \n",
      "  inflating: data/googlebooks-eng-all-5gram-20090715-9-filtered.txt  \n",
      "  inflating: data/googlebooks-eng-all-5gram-20090715-156-filtered.txt  \n",
      "  inflating: data/googlebooks-eng-all-5gram-20090715-103-filtered.txt  \n",
      "  inflating: data/googlebooks-eng-all-5gram-20090715-121-filtered.txt  \n",
      "  inflating: data/googlebooks-eng-all-5gram-20090715-174-filtered.txt  \n",
      "  inflating: data/googlebooks-eng-all-5gram-20090715-126-filtered.txt  \n",
      "  inflating: data/googlebooks-eng-all-5gram-20090715-173-filtered.txt  \n",
      "  inflating: data/googlebooks-eng-all-5gram-20090715-133-filtered.txt  \n",
      "  inflating: data/googlebooks-eng-all-5gram-20090715-166-filtered.txt  \n",
      "  inflating: data/googlebooks-eng-all-5gram-20090715-49-filtered.txt  \n",
      "  inflating: data/googlebooks-eng-all-5gram-20090715-134-filtered.txt  \n",
      "  inflating: data/googlebooks-eng-all-5gram-20090715-161-filtered.txt  \n",
      "  inflating: data/googlebooks-eng-all-5gram-20090715-102-filtered.txt  \n",
      "  inflating: data/googlebooks-eng-all-5gram-20090715-157-filtered.txt  \n",
      "  inflating: data/googlebooks-eng-all-5gram-20090715-8-filtered.txt  \n",
      "  inflating: data/googlebooks-eng-all-5gram-20090715-87-filtered.txt  \n",
      "  inflating: data/googlebooks-eng-all-5gram-20090715-78-filtered.txt  \n",
      "  inflating: data/googlebooks-eng-all-5gram-20090715-105-filtered.txt  \n",
      "  inflating: data/googlebooks-eng-all-5gram-20090715-150-filtered.txt  \n",
      "  inflating: data/googlebooks-eng-all-5gram-20090715-80-filtered.txt  \n",
      "  inflating: data/googlebooks-eng-all-5gram-20090715-95-filtered.txt  \n",
      "  inflating: data/googlebooks-eng-all-5gram-20090715-110-filtered.txt  \n",
      "  inflating: data/googlebooks-eng-all-5gram-20090715-145-filtered.txt  \n",
      "  inflating: data/googlebooks-eng-all-5gram-20090715-92-filtered.txt  \n",
      "  inflating: data/googlebooks-eng-all-5gram-20090715-38-filtered.txt  \n",
      "  inflating: data/googlebooks-eng-all-5gram-20090715-117-filtered.txt  \n",
      "  inflating: data/googlebooks-eng-all-5gram-20090715-142-filtered.txt  \n"
     ]
    }
   ],
   "source": [
    "!unzip ngrams.zip"
   ]
  },
  {
   "cell_type": "markdown",
   "metadata": {
    "application/vnd.databricks.v1+cell": {
     "inputWidgets": {},
     "nuid": "c052a4ea-9f23-4194-afc4-ef6472f60a3b",
     "showTitle": false,
     "title": ""
    }
   },
   "source": [
    "# HW 3 - Synonym Detection In Spark\n",
    "__`MIDS w261: Machine Learning at Scale | UC Berkeley School of Information | Fall 2018`__\n",
    "\n",
    "In the last homework assignment you performed Naive Bayes to classify documents as 'ham' or 'spam.' In doing so, we relied on the implicit assumption that the list of words in a document can tell us something about the nature of that document's content. We'll rely on a similar intuition this week: the idea that, if we analyze a large enough corpus of text, the list of words that appear in small window before or after a vocabulary term can tell us something about that term's meaning. This is similar to the intuition behind the word2vec algorithm.\n",
    "\n",
    "This will be your first assignment working in Spark. You'll perform Synonym Detection by repurposing an algorithm commonly used in Natural Language Processing to perform document similarity analysis. In doing so you'll also become familiar with important datatypes for efficiently processing sparse vectors and a number of set similarity metrics (e.g. Cosine, Jaccard, Dice). By the end of this homework you should be able to:  \n",
    "* ... __define__ the terms `one-hot encoding`, `co-occurrance matrix`, `stripe`, `inverted index`, `postings`, and `basis vocabulary` in the context of both synonym detection and document similarity analysis.\n",
    "* ... __explain__ the reasoning behind using a word stripe to compare word meanings.\n",
    "* ... __identify__ what makes set-similarity calculations computationally challenging.\n",
    "* ... __implement__ stateless algorithms in Spark to build stripes, inverted index and compute similarity metrics.\n",
    "* ... __identify__ when it makes sense to take a stripe approach and when to use pairs\n",
    "* ... __apply__ appropriate metrics to assess the performance of your synonym detection algorithm. \n",
    "\n",
    "__RECOMMENDED READING FOR HW3__:\t\n",
    "Your reading assignment for weeks 4 and 5 were fairly heavy and you may have glossed over the papers on dimension independent similarity metrics by [Zadeh et al](http://stanford.edu/~rezab/papers/disco.pdf) and pairwise document similarity by [Elsayed et al](https://terpconnect.umd.edu/~oard/pdf/acl08elsayed2.pdf). If you haven't already, this would be a good time to review those readings, especially when it comes to the similarity formulas -- they are directly relevant to this assignment.\n",
    "\n",
    "DITP Chapter 4 - Inverted Indexing for Text Retrieval. While this text is specific to Hadoop, the Map/Reduce concepts still apply.\n",
    "\n",
    "__Please refer to the `README` for homework submission instructions and additional resources.__"
   ]
  },
  {
   "cell_type": "markdown",
   "metadata": {
    "application/vnd.databricks.v1+cell": {
     "inputWidgets": {},
     "nuid": "516b0fa3-8a8e-4279-a9a9-d0e2610edca0",
     "showTitle": false,
     "title": ""
    }
   },
   "source": [
    "# Notebook Set-Up\n",
    "Before starting your homework run the following cells to confirm your setup."
   ]
  },
  {
   "cell_type": "code",
   "execution_count": 4,
   "metadata": {
    "application/vnd.databricks.v1+cell": {
     "inputWidgets": {},
     "nuid": "6f5abc60-dcd4-468a-b0f2-250552a36386",
     "showTitle": false,
     "title": ""
    }
   },
   "outputs": [],
   "source": [
    "import re\n",
    "import ast\n",
    "import time\n",
    "import itertools\n",
    "import numpy as np\n",
    "import pandas as pd\n",
    "import matplotlib.pyplot as plt\n",
    "from pyspark import StorageLevel"
   ]
  },
  {
   "cell_type": "code",
   "execution_count": 5,
   "metadata": {
    "application/vnd.databricks.v1+cell": {
     "inputWidgets": {},
     "nuid": "6f5abc60-dcd4-468a-b0f2-250552a36386",
     "showTitle": false,
     "title": ""
    }
   },
   "outputs": [],
   "source": [
    "# store path to notebook\n",
    "PWD = !pwd\n",
    "PWD = PWD[0]"
   ]
  },
  {
   "cell_type": "code",
   "execution_count": 6,
   "metadata": {
    "application/vnd.databricks.v1+cell": {
     "inputWidgets": {},
     "nuid": "6f5abc60-dcd4-468a-b0f2-250552a36386",
     "showTitle": false,
     "title": ""
    }
   },
   "outputs": [
    {
     "name": "stderr",
     "output_type": "stream",
     "text": [
      "Setting default log level to \"WARN\".\n",
      "To adjust logging level use sc.setLogLevel(newLevel). For SparkR, use setLogLevel(newLevel).\n"
     ]
    }
   ],
   "source": [
    "# start Spark Session (RUN THIS CELL AS IS)\n",
    "from pyspark.sql import SparkSession\n",
    "app_name = \"hw3_notebook\"\n",
    "master = \"local[*]\"\n",
    "spark = SparkSession\\\n",
    "        .builder\\\n",
    "        .appName(app_name)\\\n",
    "        .master(master)\\\n",
    "        .getOrCreate()\n",
    "sc = spark.sparkContext"
   ]
  },
  {
   "cell_type": "code",
   "execution_count": 7,
   "metadata": {
    "application/vnd.databricks.v1+cell": {
     "inputWidgets": {},
     "nuid": "6f5abc60-dcd4-468a-b0f2-250552a36386",
     "showTitle": false,
     "title": ""
    }
   },
   "outputs": [
    {
     "data": {
      "text/plain": [
       "[('spark.eventLog.enabled', 'true'),\n",
       " ('spark.app.startTime', '1644621644074'),\n",
       " ('spark.dynamicAllocation.minExecutors', '1'),\n",
       " ('spark.app.name', 'hw3_notebook'),\n",
       " ('spark.driver.host', 'w261-m.us-central1-f.c.w261-337919.internal'),\n",
       " ('spark.executor.memory', '5739m'),\n",
       " ('spark.yarn.am.memory', '640m'),\n",
       " ('spark.history.fs.logDirectory',\n",
       "  'gs://dataproc-temp-us-central1-444005423258-v60vrwzm/bd56004b-5677-46bd-a5cc-aac0beebd29d/spark-job-history'),\n",
       " ('spark.yarn.historyServer.address', 'w261-m:18080'),\n",
       " ('spark.executor.instances', '2'),\n",
       " ('spark.serializer.objectStreamReset', '100'),\n",
       " ('spark.yarn.unmanagedAM.enabled', 'true'),\n",
       " ('spark.master', 'local[*]'),\n",
       " ('spark.sql.autoBroadcastJoinThreshold', '43m'),\n",
       " ('spark.submit.deployMode', 'client'),\n",
       " ('spark.app.id', 'local-1644621645250'),\n",
       " ('spark.sql.cbo.joinReorder.enabled', 'true'),\n",
       " ('spark.driver.maxResultSize', '1920m'),\n",
       " ('spark.shuffle.service.enabled', 'true'),\n",
       " ('spark.scheduler.mode', 'FAIR'),\n",
       " ('spark.sql.adaptive.enabled', 'true'),\n",
       " ('spark.yarn.jars', 'local:/usr/lib/spark/jars/*'),\n",
       " ('spark.scheduler.minRegisteredResourcesRatio', '0.0'),\n",
       " ('spark.executor.id', 'driver'),\n",
       " ('spark.hadoop.hive.execution.engine', 'mr'),\n",
       " ('spark.executor.cores', '2'),\n",
       " ('spark.hadoop.mapreduce.fileoutputcommitter.algorithm.version', '2'),\n",
       " ('spark.metrics.namespace',\n",
       "  '\"app_name:${spark.app.name}.app_id:${spark.app.id}\"'),\n",
       " ('spark.dynamicAllocation.maxExecutors', '10000'),\n",
       " ('spark.ui.port', '0'),\n",
       " ('spark.sql.catalogImplementation', 'hive'),\n",
       " ('spark.eventLog.dir',\n",
       "  'gs://dataproc-temp-us-central1-444005423258-v60vrwzm/bd56004b-5677-46bd-a5cc-aac0beebd29d/spark-job-history'),\n",
       " ('spark.rpc.message.maxSize', '512'),\n",
       " ('spark.rdd.compress', 'True'),\n",
       " ('spark.sql.warehouse.dir',\n",
       "  'file:/media/w261-s22-Anand-Patel-95/Assignments/HW3/docker/student/spark-warehouse'),\n",
       " ('spark.executorEnv.OPENBLAS_NUM_THREADS', '1'),\n",
       " ('spark.submit.pyFiles', ''),\n",
       " ('spark.driver.memory', '3840m'),\n",
       " ('spark.dynamicAllocation.enabled', 'true'),\n",
       " ('spark.driver.port', '33489'),\n",
       " ('spark.ui.showConsoleProgress', 'true'),\n",
       " ('spark.sql.cbo.enabled', 'true')]"
      ]
     },
     "execution_count": 7,
     "metadata": {},
     "output_type": "execute_result"
    }
   ],
   "source": [
    "# Spark configuration Information (RUN THIS CELL AS IS)\n",
    "sc.getConf().getAll()"
   ]
  },
  {
   "cell_type": "code",
   "execution_count": 8,
   "metadata": {
    "application/vnd.databricks.v1+cell": {
     "inputWidgets": {},
     "nuid": "7909b057-ba61-490a-95e7-e60c7cb06c04",
     "showTitle": false,
     "title": ""
    }
   },
   "outputs": [
    {
     "data": {
      "text/html": [
       "\n",
       "            <div>\n",
       "                <p><b>SparkSession - hive</b></p>\n",
       "                \n",
       "        <div>\n",
       "            <p><b>SparkContext</b></p>\n",
       "\n",
       "            <p><a href=\"http://w261-m.us-central1-f.c.w261-337919.internal:34309\">Spark UI</a></p>\n",
       "\n",
       "            <dl>\n",
       "              <dt>Version</dt>\n",
       "                <dd><code>v3.1.2</code></dd>\n",
       "              <dt>Master</dt>\n",
       "                <dd><code>local[*]</code></dd>\n",
       "              <dt>AppName</dt>\n",
       "                <dd><code>hw3_notebook</code></dd>\n",
       "            </dl>\n",
       "        </div>\n",
       "        \n",
       "            </div>\n",
       "        "
      ],
      "text/plain": [
       "<pyspark.sql.session.SparkSession at 0x7f0f99b7ca60>"
      ]
     },
     "execution_count": 8,
     "metadata": {},
     "output_type": "execute_result"
    }
   ],
   "source": [
    "# get Spark Session info (RUN THIS CELL AS IS)\n",
    "spark"
   ]
  },
  {
   "cell_type": "markdown",
   "metadata": {
    "application/vnd.databricks.v1+cell": {
     "inputWidgets": {},
     "nuid": "5cf6e6b5-5993-4e10-9da2-47429244cfda",
     "showTitle": false,
     "title": ""
    }
   },
   "source": [
    "# Question 1: Spark Basics.\n",
    "In your readings and live session demos for weeks 4 and 5 you got a crash course in working with Spark. We also talked about how Spark RDDs fit into the broader picture of distributed algorithm design. The questions below cover key points from these discussions. Answer each one very briefly - 2 to 3 sentences.\n",
    "\n",
    "### Q1 Tasks:\n",
    "\n",
    "* __a) short response:__ What is Spark? How  does it relate to Hadoop MapReduce?\n",
    "\n",
    "* __b) short response:__ In what ways does Spark follow the principles of statelessness (a.k.a. functional programming)? List at least one way in which it allows the programmer to depart from this principle. \n",
    "\n",
    "* __c) short response:__ In the context of Spark what is a 'DAG' and how does it relate to the difference between an 'action' and a 'transformation'? Why is it useful to pay attention to the DAG that underlies your Spark implementation?"
   ]
  },
  {
   "cell_type": "markdown",
   "metadata": {
    "application/vnd.databricks.v1+cell": {
     "inputWidgets": {},
     "nuid": "d8876d5d-05fe-47a5-b61b-a251ee4ebc6a",
     "showTitle": false,
     "title": ""
    }
   },
   "source": [
    "### Q1 Student Answers:\n",
    "> __a)__ Spark is a parallel computing framework that improves upon Hadoop MapReduce by introducing multi-stage jobs, cache-ing of intermediate values, and lazy evaluation, and increased in-memory usage, to improve efficiency and flexibility. It adds more than just Map and Reduce; Spark has numerous narrow transformations (map analogy) and wide transformations (reduce analogy) available via higher-order functions. Spark's primitive data structure is the the Resilient Distributed Datasets (RDDs). RDDs can comprise of values, or key-value pairs like Hadoop MapReduce. RDDs are transformed to manipulate a dataset one after the other, forming a Directed Acyclic Graph (DAG), and have lazy evaluation. When we call an `action` on the RDD, the DAG is realized and execution is started. Spark has a driver node, executors, and a cluster manager like YARN or Mesos. Spark is connected to a distributed storage system like HDFS.\n",
    "\n",
    "> __b)__ Spark follows statelessness from functional programming by applying higher-order functions to parallelized computations on input data, and the results of these computations will always produce the same results given the same functions and same input. Spark departs from statelessness by using broadcast variables to pass values to all transformations to read if needed.\n",
    "\n",
    "> __c)__ A DAG is a directed acyclic graph that Spark creates to represent how it will execute the code on the driver. It includes all the transformations acting on the RDD and input data. A DAG will not be executed until an action, like `.collect` or a reduce, is called on the DAG. It is useful to pay attention to the DAG in a Spark implementation to see opportunities for cache-ing an RDD, by executing the DAG and cache-ing it to memory, that will be used multiple times again in the code and avoid recomputing any shuffles in the DAG used to produce the cached RDD."
   ]
  },
  {
   "cell_type": "markdown",
   "metadata": {
    "application/vnd.databricks.v1+cell": {
     "inputWidgets": {},
     "nuid": "c2542400-9725-4996-94c2-313025d682ba",
     "showTitle": false,
     "title": ""
    }
   },
   "source": [
    "# Question 2: Similarity Metrics\n",
    "As mentioned in the introduction to this assignment, an intuitive way to compare the meaning of two documents is to compare the list of words they contain. Given a vocabulary \\\\(V\\\\) (feature set) we would represent each document as a vector of `1`-s and `0`-s based on whether or not it contains each word in \\\\(V\\\\). These \"one-hot encoded\" vector representations allow us to use math to identify similar documents. However like many NLP tasks the high-dimensionality of the feature space is a challenge... especially when we start to scale up the size and number of documents we want to compare.\n",
    "\n",
    "In this question we'll look at a toy example of document similarity analysis. Consider these 3 'documents': \n",
    "```\n",
    "docA\tthe flight of a bumblebee\n",
    "docB\tthe length of a flight\n",
    "docC\tbuzzing bumblebee flight\n",
    "```\n",
    "These documents have a total of \\\\(7\\\\) unique words: \n",
    ">`a, bumblebee, buzzing, flight, length, of, the`.     \n",
    "\n",
    "Given this vocabulary, the documents' vector representations are (note that one-hot encoded entries follow the order of the vocab list above):\n",
    "\n",
    "```\n",
    "docA\t[1,1,0,1,0,1,1]\n",
    "docB\t[1,0,0,1,1,1,1]\n",
    "docC\t[0,1,1,1,0,0,0]\n",
    "```  \n",
    "\n",
    "### Q2 Tasks:\n",
    "\n",
    "* __a) short response:__ The cosine similarity between two vectors is $$\\frac{A\\cdot B}{\\|A\\|\\|B\\|}$$. Explain what the the numerator and denominator of this calculation would represent in terms of word counts in documents A and B. \n",
    "\n",
    "* __b) short response:__ Explain how the Jaccard, Overlap and Dice metrics are similar/different to the calculation for cosine similarity. When would these metrics lead to different similarity rankings for a set of documents? HINT: consider documents of very different lengths. It may be helpful to generate some small examples.\n",
    "\n",
    "* __c) short response:__ Calculate the cosine similarity for each pair of documents in our toy corpus. Please use markdown and \\\\(\\LaTeX\\\\) to show your calcuations.  \n",
    "\n",
    "* __d) short response:__ According to your calculations in `part c` which pair of documents are most similar in meaning? __BONUS__: Does this match your expecatation from reading the documents? If not, speculate about why we might have gotten this result.\n",
    "\n",
    "* __e) short response:__ In NLP common words like '`the`', '`of`', and '`a`' increase our feature space without adding a lot of signal about _semantic meaning_. Repeat your analysis from `part c` but this time ignore these three words in your calculations [__`TIP:`__ _to 'remove' stopwords just ignore the vector entries in columns corresponding to the words you wish to disregard_]. How do your results change?"
   ]
  },
  {
   "cell_type": "markdown",
   "metadata": {
    "application/vnd.databricks.v1+cell": {
     "inputWidgets": {},
     "nuid": "4b5124c4-8817-422f-ba04-ad6d4de5ff9d",
     "showTitle": false,
     "title": ""
    }
   },
   "source": [
    "### Q2 Student Answers:\n",
    "> __a)__ The numerator would be the dot product between the vectors for `docA` and `docB`, which would be the sum of elementwise multiplication between these vectors. This dot product will then be the number of words shared between these two vectors or documents. The denominator is the product of the the magnitudes of these two vectors. Since the vectors have one-hot encoding of 0/1, the magnitude of one of these vectors will just be the square root of the number of unique words in this document. Therefore, the denominator is the product of the square roots of the unique word count in `docA` and `docB`.\n",
    "\n",
    "> __b)__  The Jaccard, Overlap and Dice metrics all give a normalized value ranging from 0 to 1 (most similar) for how similar two documents are. How they are computed and what they specifically capture are subtely different.\n",
    ">\n",
    "> Jaccard: Similar to cosine because their numerators are both the number of shared words. Denominator is different;the sum of unique words in both documents minus the words shared (subtracting out the shared words once to get the entire space). This gives the ratio of the shared words to all the unique words across both documents.\n",
    ">\n",
    "> - Jaccard = $\\frac{\\#(x,y)}{\\#(x) + \\#(y) - \\#(x,y)}$\n",
    ">\n",
    "> Overlap: Similar to cosine because their numerators are both the number of shared words. Denominator is different; all the words in the smaller document. This gives the overlap ratio between words in the the smaller document and the bigger document to the total number of words in the smaller document. Full overlap would be 1 when the entire smaller document vocabulary is in the bigger document's vocabulary.\n",
    ">\n",
    "> - Overlap = $\\frac{\\#(x,y)}{min(\\#(x), \\#(y))}$\n",
    ">\n",
    "> Dice: The numerator is 2x the number of shared words. The denominator is the sum of unique words in both documents. This gives the ratio of shared words from doc x plus shared words from doc y to all the words possible across both documents.\n",
    ">\n",
    "> - Dice = $\\frac{2\\#(x,y)}{\\#(x) + \\#(y)}$\n",
    ">\n",
    "\n",
    "> Reference: Dimension Independent Similarity Computation paper's Table 1.\n",
    "\n",
    "> __c)__ Cosine Similarity between `docA` and `docB`: $\\frac{4}{\\sqrt{5} \\sqrt{5}} = \\frac{4}{5} = 0.800$\n",
    ">\n",
    "> Cosine Similarity between `docA` and `docC`: $\\frac{2}{\\sqrt{5} \\sqrt{3}} = \\frac{4}{\\sqrt{15}} = 0.516$\n",
    ">\n",
    "> Cosine Similarity between `docB` and `docC`: $\\frac{1}{\\sqrt{5} \\sqrt{3}} = \\frac{1}{\\sqrt{15}} = 0.258$\n",
    "\n",
    "> __d)__ The most similar documents are `docA` and `docB`, with a cosine similarity of 0.800.     \n",
    "> __d-bonus)__ This does not match my expectation reading the document because `docA` and `docC` seem to be the most about bumblebees. `docB` sounds like it is about general flight, but the coside similarity is higher because the documents `docA` and `docB` share 4 words (including typical stop words like 'the'), while `docA` and `docC` share only 2 words (desipite them being fairly important to the context of the sentence).\n",
    "\n",
    "> __e)__ Stop words removed, Cosine Similarity between `docA` and `docB`: $\\frac{1}{\\sqrt{2} \\sqrt{2}} = \\frac{1}{2} = 0.500$\n",
    ">\n",
    "> Stop words removed, Cosine Similarity between `docA` and `docC`: $\\frac{2}{\\sqrt{2} \\sqrt{3}} = \\frac{2}{\\sqrt{6}} = 0.816$\n",
    ">\n",
    "> Stop words removed, Cosine Similarity between `docB` and `docC`: $\\frac{1}{\\sqrt{2} \\sqrt{3}} = \\frac{1}{\\sqrt{6}} = 0.408$\n",
    ">\n",
    "> The results now changed, as we theorized in part d's bonus question, such that with stop words removed, Cosine Similarity between `docA` and `docC` is the highest and these 2 documents are most similar."
   ]
  },
  {
   "cell_type": "markdown",
   "metadata": {
    "application/vnd.databricks.v1+cell": {
     "inputWidgets": {},
     "nuid": "9b5fd240-e9d2-44a2-8fa8-9c6adfa5df05",
     "showTitle": false,
     "title": ""
    }
   },
   "source": [
    "# Question 3: Synonym Detection Strategy\n",
    "\n",
    "In the Synonym Detection task we want to compare the meaning of words, not documents. For clarity, lets call the words whose meaning we want to compare `terms`. If only we had a 'meaning document' for each `term` then we could easily use the document similarity strategy from Question 2 to figure out which `terms` have similar meaning (i.e. are 'synonyms'). Of course in order for that to work we'd have to reasonably believe that the words in these 'meaning documents' really do reflect the meaning of the `term`. For a good analysis we'd also need these 'meaning documents' to be fairly long -- the one or two sentence dictionary definition of a term isn't going to provide enough signal to distinguish between thousands and thousands of `term` meanings.\n",
    "\n",
    "This is where the idea of co-occurrance comes in. Just like DocSim makes the assumption that words in a document tell us about the document's meaning, we're going to assume that the set of words that 'co-occur' within a small window around our term can tell us some thing about the meaning of that `term`. Remember that we're going to make this 'co-words' list (a.k.a. 'stripe') by looking at a large body of text. This stripe is our 'meaning document' in that it reflects all the kinds of situations in which our `term` gets used in real language. So another way to phrase our assumption is: we think `terms` that get used to complete lots of the same phrases probably have related meanings. This may seem like an odd assumption but computational linguists have found that it works surprisingly well in practice. Let's look at a toy example to build your intuition for why and how.\n",
    "\n",
    "Consider the opening line of Charles Dickens' _A Tale of Two Cities_:"
   ]
  },
  {
   "cell_type": "code",
   "execution_count": 7,
   "metadata": {
    "application/vnd.databricks.v1+cell": {
     "inputWidgets": {},
     "nuid": "b7504e66-ef09-472a-909b-bea5b1f5e393",
     "showTitle": false,
     "title": ""
    }
   },
   "outputs": [],
   "source": [
    "# (RUN THIS CELL AS IS)\n",
    "corpus = \"\"\"It was the best of times, it was the worst of times, \n",
    "it was the age of wisdom it was the age of foolishness\"\"\""
   ]
  },
  {
   "cell_type": "markdown",
   "metadata": {
    "application/vnd.databricks.v1+cell": {
     "inputWidgets": {},
     "nuid": "7676fba9-0e45-4f63-876d-89132d7b25c1",
     "showTitle": false,
     "title": ""
    }
   },
   "source": [
    "There are a total of 10 unique words in this short 'corpus':"
   ]
  },
  {
   "cell_type": "code",
   "execution_count": 8,
   "metadata": {
    "application/vnd.databricks.v1+cell": {
     "inputWidgets": {},
     "nuid": "520d6d4c-336a-4df2-b518-a1e48c00bc98",
     "showTitle": false,
     "title": ""
    }
   },
   "outputs": [
    {
     "name": "stdout",
     "output_type": "stream",
     "text": [
      "['it', 'worst', 'times', 'foolishness', 'of', 'age', 'wisdom', 'best', 'the', 'was']\n"
     ]
    }
   ],
   "source": [
    "# (RUN THIS CELL AS IS)\n",
    "words = list(set(re.findall(r'\\w+', corpus.lower())))\n",
    "print(words)"
   ]
  },
  {
   "cell_type": "markdown",
   "metadata": {
    "application/vnd.databricks.v1+cell": {
     "inputWidgets": {},
     "nuid": "b095aa02-95a8-4ac1-9a1c-b7b6c985916a",
     "showTitle": false,
     "title": ""
    }
   },
   "source": [
    "But of these 10 words, 4 are so common that they probably don't tell us very much about meaning."
   ]
  },
  {
   "cell_type": "code",
   "execution_count": 9,
   "metadata": {
    "application/vnd.databricks.v1+cell": {
     "inputWidgets": {},
     "nuid": "fec9f761-d5db-4c48-90cc-85303e7e3335",
     "showTitle": false,
     "title": ""
    }
   },
   "outputs": [],
   "source": [
    "# (RUN THIS CELL AS IS)\n",
    "stopwords = [\"it\", \"the\", \"was\", \"of\"]"
   ]
  },
  {
   "cell_type": "markdown",
   "metadata": {
    "application/vnd.databricks.v1+cell": {
     "inputWidgets": {},
     "nuid": "d5a85035-6a79-476a-807b-cbcbdb71579e",
     "showTitle": false,
     "title": ""
    }
   },
   "source": [
    "So we'll ignore these 'stop words' and we're left with a 6 word vocabulary:"
   ]
  },
  {
   "cell_type": "code",
   "execution_count": 10,
   "metadata": {
    "application/vnd.databricks.v1+cell": {
     "inputWidgets": {},
     "nuid": "117ecf80-a449-4cc5-9fa6-c5f5128a4daa",
     "showTitle": false,
     "title": ""
    }
   },
   "outputs": [
    {
     "name": "stdout",
     "output_type": "stream",
     "text": [
      "['age', 'best', 'foolishness', 'times', 'wisdom', 'worst']\n"
     ]
    }
   ],
   "source": [
    "# (RUN THIS CELL AS IS)\n",
    "vocab = sorted([w for w in words if w not in stopwords])\n",
    "print(vocab)"
   ]
  },
  {
   "cell_type": "markdown",
   "metadata": {
    "application/vnd.databricks.v1+cell": {
     "inputWidgets": {},
     "nuid": "b833d4bf-fe53-4ca1-bf82-733995aed493",
     "showTitle": false,
     "title": ""
    }
   },
   "source": [
    "Your goal in the tasks below is to asses, which of these six words are most related to each other in meaning -- based solely on this short two line body of text.\n",
    "\n",
    "### Q3 Tasks:\n",
    "\n",
    "* __a) short response:__ Given this six word vocabulary, how many 'pairs' of words do we want to compare? More generally for a n-word vocabulary how many pairwise comparisons are there to make? \n",
    "\n",
    "* __b) code:__ In the space provided below, create a 'stripe' for each `term` in the vocabulary. This stripe should be the list of all other vocabulary words that occur within a __5 word window__ (two words on either side) of the `term`'s position in the original text (In this exercise, use ['it', 'was', 'the','of'] as stopwords, just ignore them from your 5 word vectors).\n",
    "\n",
    "* __c) short response:__ Run the provided code to turn your stripes into a 1-hot encoded co-occurrence matrix. For our 6 word vocabulary how many entries are in this matrix? How many entries are zeros? \n",
    "\n",
    "* __d) code:__ Complete the provided code to loop over all pairs and compute their cosine similarity. Please do not modify the existing code, just add your own in the spot marked.\n",
    "\n",
    "* __e) short response:__ Which pairs of words have the highest 'similarity' scores? __BONUS__: Are these words 'synonyms' in the traditional sense? In what sense are their meanings 'similar'? Explain how our results are contingent on the input text. What would change if we had a much larger corpus?"
   ]
  },
  {
   "cell_type": "markdown",
   "metadata": {
    "application/vnd.databricks.v1+cell": {
     "inputWidgets": {},
     "nuid": "06d178ec-c8bf-42aa-8d67-a09ba61187f4",
     "showTitle": false,
     "title": ""
    }
   },
   "source": [
    "### Q3 Student Answers:\n",
    "> __a)__ For these 6 words, we want to compare 6 Choose 2 or 15 pairs of words. For an n-word vocabulary, we want to compare nC2 or:\n",
    ">\n",
    "> $\\frac{n!}{2! (n-2)!} = \\frac{n*(n-1)}{2}$.\n",
    "\n",
    "> __c)__ For our 6 word vocabulary, we have $6^2 = 36$ entries in the matrix. There are 28 zeros in the matrix.   \n",
    "\n",
    "> __e)__ The highest similarity score belongs to the pairs `best-worst` and `foolishness-wisdom` which are tied with a score of 1.     \n",
    "__e-bonus)__ These words are actually opposite in meaning, but they are used in a similar context: adjectives to describe the quality of times and age respectively. We could substitute either of the words in these pairs in our corpus easily. Our results are contingent upon the input text because having limited contexts where a word is used can skew its meaning. A larger corpus means more of a chance that words are used in their traditional, unique contexts rather than exclusively in places where they are interchangeable. Our similarities will likely change."
   ]
  },
  {
   "cell_type": "code",
   "execution_count": 11,
   "metadata": {
    "application/vnd.databricks.v1+cell": {
     "inputWidgets": {},
     "nuid": "429c15b1-d1bd-4b04-a6e7-175e336a1907",
     "showTitle": false,
     "title": ""
    }
   },
   "outputs": [
    {
     "name": "stdout",
     "output_type": "stream",
     "text": [
      "CORPUS:\n",
      "It was the best of times, it was the worst of times, \n",
      "it was the age of wisdom it was the age of foolishness\n",
      "VOCAB:\n",
      "['age', 'best', 'foolishness', 'times', 'wisdom', 'worst']\n"
     ]
    }
   ],
   "source": [
    "# for convenience, here are the corpus & vocab list again (RUN THIS CELL AS IS)\n",
    "print(\"CORPUS:\")\n",
    "print(corpus)\n",
    "print('VOCAB:')\n",
    "print(vocab)"
   ]
  },
  {
   "cell_type": "markdown",
   "metadata": {
    "application/vnd.databricks.v1+cell": {
     "inputWidgets": {},
     "nuid": "482cae9e-bee6-48ab-97e4-175f993e0834",
     "showTitle": false,
     "title": ""
    }
   },
   "source": [
    "<img src='https://github.com/kyleiwaniec/w261_assets/blob/master/images/best-of-times.png?raw=true' style='width:80%'>"
   ]
  },
  {
   "cell_type": "code",
   "execution_count": 12,
   "metadata": {
    "application/vnd.databricks.v1+cell": {
     "inputWidgets": {},
     "nuid": "72c12700-cffd-4ef4-b408-f5809acc6671",
     "showTitle": false,
     "title": ""
    }
   },
   "outputs": [],
   "source": [
    "# part b - USE THE TEXT ABOVE TO COMPLETE EACH STRIPE\n",
    "# Stopwords: \n",
    "#     ['it', 'was', 'the', 'of'] \n",
    "# Hint:\n",
    "#     In provided sentence, age appears in two 5 word vectors: ['was', 'the', 'age', 'of', 'wisdom'] and ['was', 'the', 'age', 'of', 'foolishness']\n",
    "#     After removing stopwords, the remaining words are 'wisdom' and 'foolishness'\n",
    "#\n",
    "#     You finish the rest of the non-stopwords below. \n",
    "\n",
    "stripes = {'age':['wisdom','foolishness'], # example\n",
    "           'best':['times'], # YOU FILL IN THE REST\n",
    "           'foolishness':['age'],\n",
    "           'times': ['best', 'worst'],\n",
    "           'wisdom':['age'],\n",
    "           'worst':['times']}"
   ]
  },
  {
   "cell_type": "code",
   "execution_count": 13,
   "metadata": {
    "application/vnd.databricks.v1+cell": {
     "inputWidgets": {},
     "nuid": "38f4b1a4-3e91-4976-89d3-07b4942215bd",
     "showTitle": false,
     "title": ""
    }
   },
   "outputs": [],
   "source": [
    "# part c - initializing an empty co-occurrence matrix (RUN THIS CELL AS IS)\n",
    "co_matrix = pd.DataFrame({term: [0]*len(vocab) for term in vocab}, index = vocab, dtype=int)"
   ]
  },
  {
   "cell_type": "code",
   "execution_count": 14,
   "metadata": {},
   "outputs": [
    {
     "data": {
      "text/html": [
       "<div>\n",
       "<style scoped>\n",
       "    .dataframe tbody tr th:only-of-type {\n",
       "        vertical-align: middle;\n",
       "    }\n",
       "\n",
       "    .dataframe tbody tr th {\n",
       "        vertical-align: top;\n",
       "    }\n",
       "\n",
       "    .dataframe thead th {\n",
       "        text-align: right;\n",
       "    }\n",
       "</style>\n",
       "<table border=\"1\" class=\"dataframe\">\n",
       "  <thead>\n",
       "    <tr style=\"text-align: right;\">\n",
       "      <th></th>\n",
       "      <th>age</th>\n",
       "      <th>best</th>\n",
       "      <th>foolishness</th>\n",
       "      <th>times</th>\n",
       "      <th>wisdom</th>\n",
       "      <th>worst</th>\n",
       "    </tr>\n",
       "  </thead>\n",
       "  <tbody>\n",
       "    <tr>\n",
       "      <th>age</th>\n",
       "      <td>0</td>\n",
       "      <td>0</td>\n",
       "      <td>0</td>\n",
       "      <td>0</td>\n",
       "      <td>0</td>\n",
       "      <td>0</td>\n",
       "    </tr>\n",
       "    <tr>\n",
       "      <th>best</th>\n",
       "      <td>0</td>\n",
       "      <td>0</td>\n",
       "      <td>0</td>\n",
       "      <td>0</td>\n",
       "      <td>0</td>\n",
       "      <td>0</td>\n",
       "    </tr>\n",
       "    <tr>\n",
       "      <th>foolishness</th>\n",
       "      <td>0</td>\n",
       "      <td>0</td>\n",
       "      <td>0</td>\n",
       "      <td>0</td>\n",
       "      <td>0</td>\n",
       "      <td>0</td>\n",
       "    </tr>\n",
       "    <tr>\n",
       "      <th>times</th>\n",
       "      <td>0</td>\n",
       "      <td>0</td>\n",
       "      <td>0</td>\n",
       "      <td>0</td>\n",
       "      <td>0</td>\n",
       "      <td>0</td>\n",
       "    </tr>\n",
       "    <tr>\n",
       "      <th>wisdom</th>\n",
       "      <td>0</td>\n",
       "      <td>0</td>\n",
       "      <td>0</td>\n",
       "      <td>0</td>\n",
       "      <td>0</td>\n",
       "      <td>0</td>\n",
       "    </tr>\n",
       "    <tr>\n",
       "      <th>worst</th>\n",
       "      <td>0</td>\n",
       "      <td>0</td>\n",
       "      <td>0</td>\n",
       "      <td>0</td>\n",
       "      <td>0</td>\n",
       "      <td>0</td>\n",
       "    </tr>\n",
       "  </tbody>\n",
       "</table>\n",
       "</div>"
      ],
      "text/plain": [
       "             age  best  foolishness  times  wisdom  worst\n",
       "age            0     0            0      0       0      0\n",
       "best           0     0            0      0       0      0\n",
       "foolishness    0     0            0      0       0      0\n",
       "times          0     0            0      0       0      0\n",
       "wisdom         0     0            0      0       0      0\n",
       "worst          0     0            0      0       0      0"
      ]
     },
     "metadata": {},
     "output_type": "display_data"
    }
   ],
   "source": [
    "display(co_matrix)"
   ]
  },
  {
   "cell_type": "code",
   "execution_count": 15,
   "metadata": {
    "application/vnd.databricks.v1+cell": {
     "inputWidgets": {},
     "nuid": "bac747a0-a1e3-4795-aa2c-c010b10ab979",
     "showTitle": false,
     "title": ""
    }
   },
   "outputs": [
    {
     "data": {
      "text/html": [
       "<div>\n",
       "<style scoped>\n",
       "    .dataframe tbody tr th:only-of-type {\n",
       "        vertical-align: middle;\n",
       "    }\n",
       "\n",
       "    .dataframe tbody tr th {\n",
       "        vertical-align: top;\n",
       "    }\n",
       "\n",
       "    .dataframe thead th {\n",
       "        text-align: right;\n",
       "    }\n",
       "</style>\n",
       "<table border=\"1\" class=\"dataframe\">\n",
       "  <thead>\n",
       "    <tr style=\"text-align: right;\">\n",
       "      <th></th>\n",
       "      <th>age</th>\n",
       "      <th>best</th>\n",
       "      <th>foolishness</th>\n",
       "      <th>times</th>\n",
       "      <th>wisdom</th>\n",
       "      <th>worst</th>\n",
       "    </tr>\n",
       "  </thead>\n",
       "  <tbody>\n",
       "    <tr>\n",
       "      <th>age</th>\n",
       "      <td>0</td>\n",
       "      <td>0</td>\n",
       "      <td>1</td>\n",
       "      <td>0</td>\n",
       "      <td>1</td>\n",
       "      <td>0</td>\n",
       "    </tr>\n",
       "    <tr>\n",
       "      <th>best</th>\n",
       "      <td>0</td>\n",
       "      <td>0</td>\n",
       "      <td>0</td>\n",
       "      <td>1</td>\n",
       "      <td>0</td>\n",
       "      <td>0</td>\n",
       "    </tr>\n",
       "    <tr>\n",
       "      <th>foolishness</th>\n",
       "      <td>1</td>\n",
       "      <td>0</td>\n",
       "      <td>0</td>\n",
       "      <td>0</td>\n",
       "      <td>0</td>\n",
       "      <td>0</td>\n",
       "    </tr>\n",
       "    <tr>\n",
       "      <th>times</th>\n",
       "      <td>0</td>\n",
       "      <td>1</td>\n",
       "      <td>0</td>\n",
       "      <td>0</td>\n",
       "      <td>0</td>\n",
       "      <td>1</td>\n",
       "    </tr>\n",
       "    <tr>\n",
       "      <th>wisdom</th>\n",
       "      <td>1</td>\n",
       "      <td>0</td>\n",
       "      <td>0</td>\n",
       "      <td>0</td>\n",
       "      <td>0</td>\n",
       "      <td>0</td>\n",
       "    </tr>\n",
       "    <tr>\n",
       "      <th>worst</th>\n",
       "      <td>0</td>\n",
       "      <td>0</td>\n",
       "      <td>0</td>\n",
       "      <td>1</td>\n",
       "      <td>0</td>\n",
       "      <td>0</td>\n",
       "    </tr>\n",
       "  </tbody>\n",
       "</table>\n",
       "</div>"
      ],
      "text/plain": [
       "             age  best  foolishness  times  wisdom  worst\n",
       "age            0     0            1      0       1      0\n",
       "best           0     0            0      1       0      0\n",
       "foolishness    1     0            0      0       0      0\n",
       "times          0     1            0      0       0      1\n",
       "wisdom         1     0            0      0       0      0\n",
       "worst          0     0            0      1       0      0"
      ]
     },
     "execution_count": 15,
     "metadata": {},
     "output_type": "execute_result"
    }
   ],
   "source": [
    "# part c - this cell 1-hot encodes the co-occurrence matrix (RUN THIS CELL AS IS) \n",
    "for term, nbrs in stripes.items():\n",
    "    pass\n",
    "    for nbr in nbrs:\n",
    "        co_matrix.loc[term, nbr] = 1\n",
    "co_matrix"
   ]
  },
  {
   "cell_type": "code",
   "execution_count": 17,
   "metadata": {
    "application/vnd.databricks.v1+cell": {
     "inputWidgets": {},
     "nuid": "9b6cf0e3-9003-4d88-aa65-68d0a7b693e5",
     "showTitle": false,
     "title": ""
    }
   },
   "outputs": [
    {
     "name": "stdout",
     "output_type": "stream",
     "text": [
      "age-best: 0.0\n",
      "age-foolishness: 0.0\n",
      "age-times: 0.0\n",
      "age-wisdom: 0.0\n",
      "age-worst: 0.0\n",
      "best-foolishness: 0.0\n",
      "best-times: 0.0\n",
      "best-wisdom: 0.0\n",
      "best-worst: 1.0\n",
      "foolishness-times: 0.0\n",
      "foolishness-wisdom: 1.0\n",
      "foolishness-worst: 0.0\n",
      "times-wisdom: 0.0\n",
      "times-worst: 0.0\n",
      "wisdom-worst: 0.0\n"
     ]
    }
   ],
   "source": [
    "# part e - FILL IN THE MISSING LINES to compute the cosine similarity between each pair of terms\n",
    "for term1, term2 in itertools.combinations(vocab, 2):\n",
    "    # one hot-encoded vectors\n",
    "    v1 = co_matrix[term1]\n",
    "    v2 = co_matrix[term2]\n",
    "\n",
    "    \n",
    "    # cosine similarity\n",
    "    ############# YOUR CODE HERE #################\n",
    "    csim = np.dot(v1, v2)/float(np.linalg.norm(v1)*np.linalg.norm(v2)) \n",
    "    ############# (END) YOUR CODE #################    \n",
    "    \n",
    "    print(f\"{term1}-{term2}: {csim}\")"
   ]
  },
  {
   "cell_type": "markdown",
   "metadata": {
    "application/vnd.databricks.v1+cell": {
     "inputWidgets": {},
     "nuid": "3e757c6f-10ef-487c-bd29-4f0bd0c93aa7",
     "showTitle": false,
     "title": ""
    }
   },
   "source": [
    "# Question 4: Pairs and Stripes at Scale\n",
    "\n",
    "As you read in the paper by Zadeh et al, the advantage of metrics like Cosine, Dice, Overlap and Jaccard is that they are dimension independent -- that is to say, if we implement them in a smart way the computational complexity of performing these computations is independent of the number of documents we want to compare (or in our case, the number of terms that are potential synonyms). One component of a 'smart implementation' involves thinking carefully both about how you define the \"basis vocabulary\" that forms your feature set (removing stopwords, etc). Another key idea is to use a data structure that facilitates distributed calculations. The DISCO implemetation further uses a sampling strategy, but that is beyond the scope of this assignment. \n",
    "\n",
    "In this question we'll take a closer look at the computational complexity of the synonym detection approach we took in question 3 and then revist the document similarity example as a way to explore a more efficient approach to parallelizing this analysis.\n",
    "\n",
    "### Q4 Tasks:\n",
    "\n",
    "* __a) short response:__ In question 3 you calculated the cosine similarity of pairs of words using the vector representation of their co-occurrences in a corpus. In the asynch videos about \"Pairs and Stripes\" you were introduced to an alternative strategy. Explain two ways that using these data structures are more efficient than 1-hot encoded vectors when it comes to distributed similarity calculations [__`HINT:`__ _Consider memory constraints, amount of information being shuffled, amount of information being transfered over the network, and level of parallelization._]\n",
    "\n",
    "* __b) read provided code:__ The code below provides a streamined implementation of Document similarity analysis in Spark. Read through this code carefully. Once you are confident you understand how it works, answer the remaining questions. [__`TIP:`__ _to see the output of each transformation try commenting out the subsequent lines and adding an early `collect()` action_.]\n",
    "\n",
    "* __c) short response:__ The second mapper function, `splitWords`, emits 'postings'. The list of all 'postings' for a word is also refered to as an 'inverted index'. In your own words, define each of these terms ('postings' and 'inverted index') based on your reading of the provided code. (*DITP by Lin and Dyer also contains a chapter on the Inverted Index although in the context of Hadoop rather than Spark. You may find the illustration in Chaprter 4 helpful in answering this question*).\n",
    "\n",
    "* __d) short response:__ The third mapper, `makeCompositeKeys`, loops over the inverted index to emit 'pairs' of what? Explain what information is included in the composite key created at this stage and why it makes sense to synchronize around that information in the context of performing document similarity calculations. In addition to the information included in these new keys, what other piece of information will we need to compute Jaccard or Cosine similarity?\n",
    "\n",
    "* __f) short response:__ Out of all the Spark transformations we make in this analysis, which are 'wide' transformations and which are 'narrow' transformations. Explain."
   ]
  },
  {
   "cell_type": "markdown",
   "metadata": {
    "application/vnd.databricks.v1+cell": {
     "inputWidgets": {},
     "nuid": "244c0e4a-7043-4bc1-a64f-231db9211ea1",
     "showTitle": false,
     "title": ""
    }
   },
   "source": [
    "### Q4 Student Answers:\n",
    "\n",
    "> __a)__ The co-occurance vectors, 1-hot encoded vectors, and matrices approach above represents very sparse (many zeros) and very large (square of the size of the vocabulary) matrices for similarity. They do not efficiently use memory for storing information, since we really care about non-zero entries. First, the pairs & stripes approach is more memory efficient because it only stores non-zero occurances. Second, this approach uses aggregation to sum up the required parameters for similarity (sum of shared words, number of unique words) without doing any vector computations like dot product or norm. This means we can parallelize the task.\n",
    "\n",
    "> __b)__ _read provided code before answering d-f_ \n",
    "\n",
    "> __c)__ `posting`: an emmision of a document id and a payload. Our postings here are emitted by `splitWords()` mapper 2, and are the the document id and payload of document length: ex. ` [('docA', 4)]`. `Inverted Index`: a collection of terms and postings. Our `inverted index` here is generated after `.reduceByKey(lambda x,y : x+y)` and our terms are the words and the collection of postings are a list of postings for that word: ex. `('bright', [('docA', 4), ('docB', 4), ('docC', 4)])`. The inverted part comes from the word being the key and the value containing info about which fragments contain the word.\n",
    "\n",
    "> __d)__ The mapper `makeCompositeKeys` emits pairs of postings and a value of 1 for the occurance: ex. `(\"(('docA', 4), ('docB', 4))\", 1)`. The first element in this tuple is the composite key, the second element is a count of 1 for the each occurance encountered in the inverted index. Each of these counts represents a word shared between these two documents indicated inside the composite key. We can reduce by this composite key to count the total number of words shared between the two documents. This is the numerator in Jaccard or Cosine similarity. We will also need the denominators in Jaccard or Cosine similarity, which include document totals, and thankfully we can extract that information from the composite key itself.   \n",
    "\n",
    "> __e)__ Narrow transformations: 1 `map()`, 2 `flatMap()`. These are narrow because we apply a function over the data in parallel, and there is no shuffle or partitioning required. Wide transformations: 2 `reduceByKey()`, 1 `takeOrdered()`. These are wide transformations that require a shuffle. In the Spark UI's DAG visual, there are 3 stages in this job that end on one of the two `reduceByKey()`'s and the last `takeOrdered()`."
   ]
  },
  {
   "cell_type": "markdown",
   "metadata": {
    "application/vnd.databricks.v1+cell": {
     "inputWidgets": {},
     "nuid": "02bbeeeb-2c83-40ad-b648-79b76f2603cb",
     "showTitle": false,
     "title": ""
    }
   },
   "source": [
    "A small test file: __`sample_docs.txt`__"
   ]
  },
  {
   "cell_type": "code",
   "execution_count": 18,
   "metadata": {
    "application/vnd.databricks.v1+cell": {
     "inputWidgets": {},
     "nuid": "c4aa7016-5fff-4b11-b615-4cff0007f244",
     "showTitle": false,
     "title": ""
    }
   },
   "outputs": [
    {
     "name": "stdout",
     "output_type": "stream",
     "text": [
      "Writing sample_docs.txt\n"
     ]
    }
   ],
   "source": [
    "%%writefile sample_docs.txt\n",
    "docA\tbright blue butterfly forget\n",
    "docB\tbest forget bright sky\n",
    "docC\tblue sky bright sun\n",
    "docD\tunder butterfly sky hangs\n",
    "docE\tforget blue butterfly"
   ]
  },
  {
   "cell_type": "code",
   "execution_count": 19,
   "metadata": {
    "application/vnd.databricks.v1+cell": {
     "inputWidgets": {},
     "nuid": "c738aa14-92f0-4727-bd60-0c0f5326ad37",
     "showTitle": false,
     "title": ""
    }
   },
   "outputs": [
    {
     "name": "stdout",
     "output_type": "stream",
     "text": [
      "docA\tbright blue butterfly forget\n",
      "docB\tbest forget bright sky\n",
      "docC\tblue sky bright sun\n",
      "docD\tunder butterfly sky hangs\n",
      "docE\tforget blue butterfly\n"
     ]
    }
   ],
   "source": [
    "# load data - RUN THIS CELL AS IS\n",
    "!cat sample_docs.txt"
   ]
  },
  {
   "cell_type": "markdown",
   "metadata": {
    "application/vnd.databricks.v1+cell": {
     "inputWidgets": {},
     "nuid": "36e04f30-d4ee-484f-a6f4-5568a1698a49",
     "showTitle": false,
     "title": ""
    }
   },
   "source": [
    "__Document Similarity Analysis in Spark:__"
   ]
  },
  {
   "cell_type": "code",
   "execution_count": 20,
   "metadata": {
    "application/vnd.databricks.v1+cell": {
     "inputWidgets": {},
     "nuid": "da504044-0c75-4763-adad-2d8e2817265b",
     "showTitle": false,
     "title": ""
    }
   },
   "outputs": [],
   "source": [
    "# load data - RUN THIS CELL AS IS\n",
    "data = sc.textFile(\"sample_docs.txt\")  "
   ]
  },
  {
   "cell_type": "code",
   "execution_count": 21,
   "metadata": {
    "application/vnd.databricks.v1+cell": {
     "inputWidgets": {},
     "nuid": "13bca2b5-8996-4018-b59b-3db3599f14fd",
     "showTitle": false,
     "title": ""
    }
   },
   "outputs": [],
   "source": [
    "# helper function - RUN THIS CELL AS IS\n",
    "def splitWords(pair):\n",
    "    \"\"\"Mapper 2: tokenize each document and emit postings.\"\"\"\n",
    "    doc, text = pair\n",
    "    words = text.split(\" \")\n",
    "    for w in words:\n",
    "        yield (w, [(doc,len(words))])"
   ]
  },
  {
   "cell_type": "code",
   "execution_count": 22,
   "metadata": {
    "application/vnd.databricks.v1+cell": {
     "inputWidgets": {},
     "nuid": "68200122-deb9-434b-84b1-a1a130566b68",
     "showTitle": false,
     "title": ""
    }
   },
   "outputs": [],
   "source": [
    "# helper function - RUN THIS CELL AS IS\n",
    "def makeCompositeKey(inverted_index):\n",
    "    \"\"\"Mapper 3: loop over postings and yield pairs.\"\"\"\n",
    "    word, postings = inverted_index\n",
    "    # taking advantage of symmetry, output only (a,b), but not (b,a)\n",
    "    for subset in itertools.combinations(sorted(postings), 2):\n",
    "        yield (str(subset), 1)"
   ]
  },
  {
   "cell_type": "code",
   "execution_count": 23,
   "metadata": {
    "application/vnd.databricks.v1+cell": {
     "inputWidgets": {},
     "nuid": "34b72a6c-cab1-46ea-b50b-00ce7fa49cc4",
     "showTitle": false,
     "title": ""
    }
   },
   "outputs": [],
   "source": [
    "# helper function - RUN THIS CELL AS IS\n",
    "def jaccard(line):\n",
    "    \"\"\"Mapper 4: compute similarity scores\"\"\"\n",
    "    (doc1, n1), (doc2, n2) = ast.literal_eval(line[0])\n",
    "    total = int(line[1])\n",
    "    jaccard = total / float(int(n1) + int(n2) - total)\n",
    "    yield doc1+\" - \"+doc2, jaccard"
   ]
  },
  {
   "cell_type": "code",
   "execution_count": 84,
   "metadata": {
    "application/vnd.databricks.v1+cell": {
     "inputWidgets": {},
     "nuid": "1a706f1c-bbb2-4f45-af1c-9ebee2fbea0c",
     "showTitle": false,
     "title": ""
    }
   },
   "outputs": [
    {
     "data": {
      "text/plain": [
       "[('docA - docE', 0.75),\n",
       " ('docA - docB', 0.3333333333333333),\n",
       " ('docA - docC', 0.3333333333333333),\n",
       " ('docB - docC', 0.3333333333333333),\n",
       " ('docD - docE', 0.16666666666666666),\n",
       " ('docC - docE', 0.16666666666666666),\n",
       " ('docB - docE', 0.16666666666666666),\n",
       " ('docC - docD', 0.14285714285714285),\n",
       " ('docA - docD', 0.14285714285714285),\n",
       " ('docB - docD', 0.14285714285714285)]"
      ]
     },
     "execution_count": 84,
     "metadata": {},
     "output_type": "execute_result"
    }
   ],
   "source": [
    "# Spark Job - RUN THIS CELL AS IS\n",
    "result = data.map(lambda line: line.split('\\t')) \\\n",
    "             .flatMap(splitWords) \\\n",
    "             .reduceByKey(lambda x,y : x+y) \\\n",
    "             .flatMap(makeCompositeKey) \\\n",
    "             .reduceByKey(lambda x,y : x+y) \\\n",
    "             .flatMap(jaccard) \\\n",
    "             .takeOrdered(10, key=lambda x: -x[1])\n",
    "result\n",
    "# result.collect()"
   ]
  },
  {
   "cell_type": "markdown",
   "metadata": {
    "application/vnd.databricks.v1+cell": {
     "inputWidgets": {},
     "nuid": "6a9f78ca-93fe-46ba-8d26-fa7a8adc6710",
     "showTitle": false,
     "title": ""
    }
   },
   "source": [
    "# About the Data\n",
    "Now that you are comfortable with similarity metrics we turn to the main task in this assignment: \"Synonym\" Detection. As you saw in Question 3 the ability of our algorithm to detect words with similar meanings is highly dependent on our input text. Specifically, we need a large enough corpus of natural language that we can expose our algorithm to a realistic range of contexts in which any given word might get used. Ideally, these 'contexts' would also provide enough signal to distinguish between words with similar semantic roles but different meaning. Finding such a corpus will be easier to accomplish for some words than others.\n",
    "\n",
    "For the main task in this portion of the homework you will use data from Google's n-gram corpus. This data is particularly convenient for our task because Google has already done the first step for us: they windowed over a large subset of the web and extracted all 5-grams. If you are interested in learning more about this dataset the original source is: http://books.google.com/ngrams/, and a large subset is available [here from AWS](https://aws.amazon.com/datasets/google-books-ngrams/). \n",
    "\n",
    "For this assignment we have provided a subset of the 5-grams data consisting of 191 files of approximately 10MB each. These files are available in the 'data' folder in 'Assignments/HW3/' github.  Please only use the provided data so that we can ensure consistent results from student to student.\n",
    "\n",
    "Each row in our dataset represents one of these 5 grams in the format:\n",
    "> `(ngram) \\t (count) \\t (pages_count) \\t (books_count)`\n",
    "\n",
    "__DISCLAIMER__: In real life, we would calculate the stripes cooccurrence data from the raw text by windowing over the raw text and not from the 5-gram preprocessed data.  Calculating pairs on this 5-gram is a little corrupt as we will be double counting cooccurences. Having said that this exercise can still pull out some similar terms."
   ]
  },
  {
   "cell_type": "code",
   "execution_count": 9,
   "metadata": {},
   "outputs": [
    {
     "name": "stdout",
     "output_type": "stream",
     "text": [
      "/media/w261-s22-Anand-Patel-95/Assignments/HW3/docker/student\n"
     ]
    }
   ],
   "source": [
    "!pwd"
   ]
  },
  {
   "cell_type": "code",
   "execution_count": 10,
   "metadata": {
    "application/vnd.databricks.v1+cell": {
     "inputWidgets": {},
     "nuid": "67ee798a-99fd-4ada-b8b1-4bfa6d032335",
     "showTitle": false,
     "title": ""
    }
   },
   "outputs": [],
   "source": [
    "# set global paths to full data folder and to the first file (which we'll use for testing)\n",
    "# NGRAMS = '../../data'\n",
    "# F1_PATH = '../../data/googlebooks-eng-all-5gram-20090715-0-filtered.txt'\n",
    "\n",
    "NGRAMS = './data'\n",
    "F1_PATH = './data/googlebooks-eng-all-5gram-20090715-0-filtered.txt'\n",
    "\n",
    "# dataproc:\n",
    "NGRAMS = 'file://' + PWD + '/data'\n",
    "F1_PATH = 'file://' + PWD + '/data/googlebooks-eng-all-5gram-20090715-0-filtered.txt'"
   ]
  },
  {
   "cell_type": "markdown",
   "metadata": {
    "application/vnd.databricks.v1+cell": {
     "inputWidgets": {},
     "nuid": "d36301d1-c5fd-46c7-91a5-4745bb175741",
     "showTitle": false,
     "title": ""
    }
   },
   "source": [
    "As you develop your code you should use the following file to systems test each of your solutions before running it on the Google data. (Note: these are the 5-grams extracted from our two line Dickens corpus in Question 3... you should find that your Spark job results match the calculations we did \"by hand\").\n",
    "\n",
    "Test file: __`systems_test.txt`__"
   ]
  },
  {
   "cell_type": "code",
   "execution_count": 11,
   "metadata": {
    "application/vnd.databricks.v1+cell": {
     "inputWidgets": {},
     "nuid": "ed5ebc27-0381-4fe6-901b-fe4fc4f5a10d",
     "showTitle": false,
     "title": ""
    }
   },
   "outputs": [
    {
     "name": "stdout",
     "output_type": "stream",
     "text": [
      "Writing systems_test.txt\n"
     ]
    }
   ],
   "source": [
    "%%writefile systems_test.txt\n",
    "it was the best of\t1\t1\t1\n",
    "age of wisdom it was\t1\t1\t1\n",
    "best of times it was\t1\t1\t1\n",
    "it was the age of\t2\t1\t1\n",
    "it was the worst of\t1\t1\t1\n",
    "of times it was the\t2\t1\t1\n",
    "of wisdom it was the\t1\t1\t1\n",
    "the age of wisdom it\t1\t1\t1\n",
    "the best of times it\t1\t1\t1\n",
    "the worst of times it\t1\t1\t1\n",
    "times it was the age\t1\t1\t1\n",
    "times it was the worst\t1\t1\t1\n",
    "was the age of wisdom\t1\t1\t1\n",
    "was the best of times\t1\t1\t1\n",
    "was the age of foolishness\t1\t1\t1\n",
    "was the worst of times\t1\t1\t1\n",
    "wisdom it was the age\t1\t1\t1\n",
    "worst of times it was\t1\t1\t1"
   ]
  },
  {
   "cell_type": "markdown",
   "metadata": {
    "application/vnd.databricks.v1+cell": {
     "inputWidgets": {},
     "nuid": "ac26da79-b410-4a8c-9d5d-6c074d48769d",
     "showTitle": false,
     "title": ""
    }
   },
   "source": [
    "Finally, we'll create a Spark RDD for each of these files so that they're easy to access throughout the rest of the assignment."
   ]
  },
  {
   "cell_type": "code",
   "execution_count": 12,
   "metadata": {
    "application/vnd.databricks.v1+cell": {
     "inputWidgets": {},
     "nuid": "4e162747-4cf6-4f36-89ca-a1214512f5c2",
     "showTitle": false,
     "title": ""
    }
   },
   "outputs": [],
   "source": [
    "# Spark RDDs for each dataset\n",
    "testRDD = sc.textFile('file://' + PWD + '/' + \"systems_test.txt\") \n",
    "f1RDD = sc.textFile(F1_PATH)\n",
    "dataRDD = sc.textFile(NGRAMS)"
   ]
  },
  {
   "cell_type": "markdown",
   "metadata": {
    "application/vnd.databricks.v1+cell": {
     "inputWidgets": {},
     "nuid": "70ae8e81-27de-4975-8b4c-22bbb82c6be5",
     "showTitle": false,
     "title": ""
    }
   },
   "source": [
    "Let's take a peek at what each of these RDDs looks like:"
   ]
  },
  {
   "cell_type": "code",
   "execution_count": 13,
   "metadata": {
    "application/vnd.databricks.v1+cell": {
     "inputWidgets": {},
     "nuid": "6382f9a6-0b3d-4cb5-be31-f4ac27814306",
     "showTitle": false,
     "title": ""
    }
   },
   "outputs": [
    {
     "name": "stderr",
     "output_type": "stream",
     "text": [
      "                                                                                \r"
     ]
    },
    {
     "data": {
      "text/plain": [
       "['it was the best of\\t1\\t1\\t1',\n",
       " 'age of wisdom it was\\t1\\t1\\t1',\n",
       " 'best of times it was\\t1\\t1\\t1',\n",
       " 'it was the age of\\t2\\t1\\t1',\n",
       " 'it was the worst of\\t1\\t1\\t1',\n",
       " 'of times it was the\\t2\\t1\\t1',\n",
       " 'of wisdom it was the\\t1\\t1\\t1',\n",
       " 'the age of wisdom it\\t1\\t1\\t1',\n",
       " 'the best of times it\\t1\\t1\\t1',\n",
       " 'the worst of times it\\t1\\t1\\t1']"
      ]
     },
     "execution_count": 13,
     "metadata": {},
     "output_type": "execute_result"
    }
   ],
   "source": [
    "testRDD.take(10)"
   ]
  },
  {
   "cell_type": "code",
   "execution_count": 14,
   "metadata": {
    "application/vnd.databricks.v1+cell": {
     "inputWidgets": {},
     "nuid": "7a94a009-6a28-4c71-9cfd-57fc3f0469e4",
     "showTitle": false,
     "title": ""
    }
   },
   "outputs": [
    {
     "data": {
      "text/plain": [
       "['A BILL FOR ESTABLISHING RELIGIOUS\\t59\\t59\\t54',\n",
       " 'A Biography of General George\\t92\\t90\\t74',\n",
       " 'A Case Study in Government\\t102\\t102\\t78',\n",
       " 'A Case Study of Female\\t447\\t447\\t327',\n",
       " 'A Case Study of Limited\\t55\\t55\\t43',\n",
       " \"A Child's Christmas in Wales\\t1099\\t1061\\t866\",\n",
       " 'A Circumstantial Narrative of the\\t62\\t62\\t50',\n",
       " 'A City by the Sea\\t62\\t60\\t49',\n",
       " 'A Collection of Fairy Tales\\t123\\t117\\t80',\n",
       " 'A Collection of Forms of\\t116\\t103\\t82']"
      ]
     },
     "execution_count": 14,
     "metadata": {},
     "output_type": "execute_result"
    }
   ],
   "source": [
    "f1RDD.take(10)"
   ]
  },
  {
   "cell_type": "code",
   "execution_count": 15,
   "metadata": {
    "application/vnd.databricks.v1+cell": {
     "inputWidgets": {},
     "nuid": "3821fa08-6fbd-46dd-9233-92ae8dad4e7b",
     "showTitle": false,
     "title": ""
    }
   },
   "outputs": [
    {
     "data": {
      "text/plain": [
       "['A Behavioural Approach to the\\t93\\t93\\t83',\n",
       " 'A Biography of William Ellery\\t105\\t105\\t81',\n",
       " 'A Blueprint for How to\\t57\\t57\\t46',\n",
       " 'A Book for Soldiers and\\t46\\t46\\t46',\n",
       " 'A Brief Summe of Geographie\\t172\\t171\\t127',\n",
       " 'A CASE STUDY The following\\t101\\t101\\t97',\n",
       " 'A Case Study from Tanzania\\t104\\t104\\t86',\n",
       " 'A Century of Missions in\\t93\\t93\\t67',\n",
       " 'A Challenge to Christian England\\t98\\t98\\t65',\n",
       " 'A Chronology of Inland Navigation\\t109\\t109\\t106']"
      ]
     },
     "execution_count": 15,
     "metadata": {},
     "output_type": "execute_result"
    }
   ],
   "source": [
    "dataRDD.take(10)"
   ]
  },
  {
   "cell_type": "markdown",
   "metadata": {
    "application/vnd.databricks.v1+cell": {
     "inputWidgets": {},
     "nuid": "2bec439f-08e0-45b9-a249-6e57064f627d",
     "showTitle": false,
     "title": ""
    }
   },
   "source": [
    "# Question 5: N-gram EDA part 1 (words)\n",
    "\n",
    "Before starting our synonym-detection, let's get a sense for this data. As you saw in questions 3 and 4 the size of the vocabulary will impact the amount of computation we have to do. Write a Spark job that will accomplish the three tasks below as efficiently as possible. (No credit will be awarded for jobs that sort or subset after calling `collect()`-- use the framework to get the minimum information requested). As you develop your code, systems test each job on the provided file with Dickens ngrams, then on a single file from the Ngram dataset before running the full analysis.\n",
    "\n",
    "\n",
    "### Q5 Tasks:\n",
    "* __a) code:__ Write a Spark application to retrieve:\n",
    "  * The number of unique words that appear in the data. (i.e. size of the vocabulary) \n",
    "  * A list of the top 10 words & their counts.\n",
    "  * A list of the bottom 10 words & their counts.  \n",
    "  \n",
    "  __`NOTE  1:`__ _don't forget to lower case the ngrams before extracting words._  \n",
    "  __`NOTE  2:`__ _don't forget to take in to account the number of occurances (count) of each ngram._  \n",
    "  __`NOTE  3:`__ _to make this code more reusable, the `EDA1` function code base uses a parameter 'n' to specify the number of top/bottom words to print (in this case we've requested 10)._\n",
    "\n",
    "\n",
    "* __b) short response:__ Given the vocab size you found in part a, how many potential synonym pairs could we form from this corpus? If each term's stripe were 1000 words long, how many tuples would we need to shuffle in order to form the inverted indices? Show and briefly explain your calculations for each part of this question. [__`HINT:`__ see your work from q4 for a review of these concepts.]\n",
    "\n",
    "* __c) short response:__ Looking at the most frequent words and their counts, how usefull will these top words be in synonym detection? Explain.\n",
    "\n",
    "* __d) short response:__ Looking at the least frequent words and their counts, how reliable should we expect the detected 'synonyms' for these words to be? Explain."
   ]
  },
  {
   "cell_type": "markdown",
   "metadata": {
    "application/vnd.databricks.v1+cell": {
     "inputWidgets": {},
     "nuid": "551ea292-76ba-40de-920f-e3e528c52b31",
     "showTitle": false,
     "title": ""
    }
   },
   "source": [
    "### Q5 Student Answers:\n",
    "\n",
    "> __b)__ We found the vocab size for the ngram corpus to be 269339 so we can form $\\frac{269339 * 269338}{2} = 36271613791$ synonym pairs. If each term's stripe is 1000 words long, then each term would need 1000 tuples/postings emitted and we would need $269339(1000) = 269339000$ tuples to form the inverted indices (ex. `(word, (term, len(stripe))`).     \n",
    "\n",
    "> __c)__ The most frequent words are commonly occuring words in the English language, or \"stop words\". They would not be very useful in synonym detection because they appear in almost every sentence and do not give much context to distinguish meaning for their neighboring terms in the ngrams.   \n",
    "\n",
    "> __d)__ The least frequent words are rare words or possibly names. They all have the same count of 40. This means that they could have occured in the same ngram with that count field. That ngram and these terms do not appear much in the corpus, so our ability to detect synonms with them is weak, just as we saw limited word occurances misleading similarity earlier in Q3. "
   ]
  },
  {
   "cell_type": "code",
   "execution_count": 16,
   "metadata": {
    "application/vnd.databricks.v1+cell": {
     "inputWidgets": {},
     "nuid": "091af7db-444d-4aa7-bbc3-691f728d2840",
     "showTitle": false,
     "title": ""
    }
   },
   "outputs": [],
   "source": [
    "# part a - write your spark job here \n",
    "def EDA1(rdd, n):\n",
    "    total, top_n, bottom_n = None, None, None\n",
    "    ############# YOUR CODE HERE ###############\n",
    "    # get the number of unique words rdd and cache it.\n",
    "    uniqueWords = rdd.map(lambda line: line.split('\\t')[0:2]) \\\n",
    "                     .flatMap(lambda x: [(word, int(x[1])) for word in x[0].lower().split()]) \\\n",
    "                     .reduceByKey(lambda a, b: a + b) \\\n",
    "                     .cache()\n",
    "    \n",
    "    total = uniqueWords.count()\n",
    "    \n",
    "    # get the top n words\n",
    "    top_n = uniqueWords.takeOrdered(n, key=lambda x: -x[1])\n",
    "    \n",
    "    # get bottom n words\n",
    "    bottom_n = uniqueWords.takeOrdered(n, key=lambda x: x[1])\n",
    "    ############# (END) YOUR CODE ##############\n",
    "    return total, top_n, bottom_n"
   ]
  },
  {
   "cell_type": "code",
   "execution_count": 23,
   "metadata": {},
   "outputs": [],
   "source": [
    "## Testing for part a - ignore!\n",
    "# uniqueWords = testRDD.map(lambda line: line.split('\\t')[0:2]) \\\n",
    "#                      .flatMap(lambda x: [(word, int(x[1])) for word in x[0].lower().split()]) \\\n",
    "#                      .reduceByKey(lambda a, b: a + b) \\\n",
    "#                      .cache()\n",
    "\n",
    "# uniqueWords.takeOrdered(5, key=lambda x: x[1])"
   ]
  },
  {
   "cell_type": "code",
   "execution_count": 25,
   "metadata": {},
   "outputs": [
    {
     "name": "stdout",
     "output_type": "stream",
     "text": [
      "10\n",
      "[('was', 17), ('of', 17), ('the', 17), ('it', 16), ('times', 10), ('age', 8), ('worst', 5), ('wisdom', 5), ('best', 4), ('foolishness', 1)]\n",
      "[('foolishness', 1), ('best', 4), ('worst', 5), ('wisdom', 5), ('age', 8), ('times', 10), ('it', 16), ('was', 17), ('of', 17), ('the', 17)]\n"
     ]
    }
   ],
   "source": [
    "# testing cell\n",
    "total_tmp, top_10_tmp, bot_10_tmp = EDA1(testRDD, 10)\n",
    "print(total_tmp)\n",
    "print(top_10_tmp)\n",
    "print(bot_10_tmp)"
   ]
  },
  {
   "cell_type": "code",
   "execution_count": 16,
   "metadata": {
    "application/vnd.databricks.v1+cell": {
     "inputWidgets": {},
     "nuid": "4babf25b-06f1-4d63-86d8-a2e853f13e2c",
     "showTitle": false,
     "title": ""
    }
   },
   "outputs": [
    {
     "name": "stdout",
     "output_type": "stream",
     "text": [
      "Wall time: 0.9175705909729004 seconds\n"
     ]
    }
   ],
   "source": [
    "# part a - run the system test (RUN THIS CELL AS IS... use display cell below to see results)\n",
    "import time\n",
    "start = time.time()\n",
    "vocab_size, most_frequent, least_frequent = EDA1(testRDD, 10)\n",
    "print(\"Wall time: {} seconds\".format(time.time() - start))\n"
   ]
  },
  {
   "cell_type": "code",
   "execution_count": 17,
   "metadata": {
    "application/vnd.databricks.v1+cell": {
     "inputWidgets": {},
     "nuid": "615f0416-8170-4d20-9eb1-42c5abfbeb64",
     "showTitle": false,
     "title": ""
    }
   },
   "outputs": [
    {
     "name": "stdout",
     "output_type": "stream",
     "text": [
      "Vocabulary Size: 10\n",
      " ---- Top Words ----|--- Bottom Words ----\n",
      "     was         17 |    foolishness   1\n",
      "      of         17 |           best   4\n",
      "     the         17 |          worst   5\n",
      "      it         16 |         wisdom   5\n",
      "   times         10 |            age   8\n",
      "     age          8 |          times  10\n",
      "   worst          5 |             it  16\n",
      "  wisdom          5 |            was  17\n",
      "    best          4 |             of  17\n",
      "foolishness          1 |            the  17\n"
     ]
    }
   ],
   "source": [
    "# part a - display results (feel free to modify the formatting code if needed)\n",
    "print(\"Vocabulary Size:\", vocab_size)\n",
    "print(\" ---- Top Words ----|--- Bottom Words ----\")\n",
    "for (w1, c1), (w2, c2) in zip(most_frequent, least_frequent):\n",
    "    print(f\"{w1:>8} {c1:>10} |{w2:>15} {c2:>3}\")"
   ]
  },
  {
   "cell_type": "markdown",
   "metadata": {
    "application/vnd.databricks.v1+cell": {
     "inputWidgets": {},
     "nuid": "cf050ce9-3cc6-484c-8036-7d380d4ca0dc",
     "showTitle": false,
     "title": ""
    }
   },
   "source": [
    "Expected output for testRDD:\n",
    "<pre>\n",
    "    Vocabulary Size: 10\n",
    " ---- Top Words ----|--- Bottom Words ----\n",
    "     was         17 |    foolishness   1\n",
    "      of         17 |           best   4\n",
    "     the         17 |          worst   5\n",
    "      it         16 |         wisdom   5\n",
    "   times         10 |            age   8\n",
    "     age          8 |          times  10\n",
    "   worst          5 |             it  16\n",
    "  wisdom          5 |            was  17\n",
    "    best          4 |             of  17\n",
    "foolishness       1 |            the  17  \n",
    "</pre>"
   ]
  },
  {
   "cell_type": "code",
   "execution_count": 18,
   "metadata": {
    "application/vnd.databricks.v1+cell": {
     "inputWidgets": {},
     "nuid": "61d1bbae-7d1d-483e-b23a-a32fef6e2264",
     "showTitle": false,
     "title": ""
    }
   },
   "outputs": [
    {
     "name": "stderr",
     "output_type": "stream",
     "text": [
      "[Stage 9:>                                                          (0 + 2) / 2]\r"
     ]
    },
    {
     "name": "stdout",
     "output_type": "stream",
     "text": [
      "Wall time: 1.580016851425171 seconds\n"
     ]
    },
    {
     "name": "stderr",
     "output_type": "stream",
     "text": [
      "                                                                                \r"
     ]
    }
   ],
   "source": [
    "# part a - run a single file, ie., a small sample (RUN THIS CELL AS IS)\n",
    "start = time.time()\n",
    "vocab_size, most_frequent, least_frequent = EDA1(f1RDD, 10)\n",
    "print(\"Wall time: {} seconds\".format(time.time() - start))\n"
   ]
  },
  {
   "cell_type": "code",
   "execution_count": 19,
   "metadata": {
    "application/vnd.databricks.v1+cell": {
     "inputWidgets": {},
     "nuid": "79a6aa9a-4c42-483e-b859-9711a8bbff9f",
     "showTitle": false,
     "title": ""
    }
   },
   "outputs": [
    {
     "name": "stdout",
     "output_type": "stream",
     "text": [
      "Vocabulary Size: 36353\n",
      " ---- Top Words ----|--- Bottom Words ----\n",
      "     the   27691943 |    stakeholder  40\n",
      "      of   18590950 |          kenny  40\n",
      "      to   11601757 |         barnes  40\n",
      "      in    7470912 |         arnall  40\n",
      "       a    6926743 |     buonaparte  40\n",
      "     and    6150529 |       puzzling  40\n",
      "    that    4077421 |             hd  40\n",
      "      is    4074864 |        corisca  40\n",
      "      be    3720812 |       cristina  40\n",
      "     was    2492074 |         durban  40\n"
     ]
    }
   ],
   "source": [
    "# part a - display results (feel free to modify the formatting code if needed)\n",
    "print(\"Vocabulary Size:\", vocab_size)\n",
    "print(\" ---- Top Words ----|--- Bottom Words ----\")\n",
    "for (w1, c1), (w2, c2) in zip(most_frequent, least_frequent):\n",
    "    print(f\"{w1:>8} {c1:>10} |{w2:>15} {c2:>3}\")"
   ]
  },
  {
   "cell_type": "markdown",
   "metadata": {
    "application/vnd.databricks.v1+cell": {
     "inputWidgets": {},
     "nuid": "7e6bd030-552b-4cbb-aafb-955cc5f2575c",
     "showTitle": false,
     "title": ""
    }
   },
   "source": [
    "Expected output for f1RDD\n",
    "<pre>\n",
    "Vocabulary Size: 36353\n",
    " ---- Top Words ----|--- Bottom Words ----\n",
    "     the   27691943 |    stakeholder  40\n",
    "      of   18590950 |          kenny  40\n",
    "      to   11601757 |         barnes  40\n",
    "      in    7470912 |         arnall  40\n",
    "       a    6926743 |     buonaparte  40\n",
    "     and    6150529 |       puzzling  40\n",
    "    that    4077421 |             hd  40\n",
    "      is    4074864 |        corisca  40\n",
    "      be    3720812 |       cristina  40\n",
    "     was    2492074 |         durban  40\n",
    "</pre>"
   ]
  },
  {
   "cell_type": "code",
   "execution_count": 30,
   "metadata": {
    "application/vnd.databricks.v1+cell": {
     "inputWidgets": {},
     "nuid": "f82284a5-a9a1-49b4-b8fa-057d6ed6f368",
     "showTitle": false,
     "title": ""
    }
   },
   "outputs": [
    {
     "name": "stderr",
     "output_type": "stream",
     "text": [
      "[Stage 36:=================================================>    (171 + 4) / 188]\r"
     ]
    },
    {
     "name": "stdout",
     "output_type": "stream",
     "text": [
      "Wall time: 165.711421251297 seconds\n"
     ]
    },
    {
     "name": "stderr",
     "output_type": "stream",
     "text": [
      "                                                                                \r"
     ]
    }
   ],
   "source": [
    "# part a - run full analysis (RUN THIS CELL AS IS)\n",
    "start = time.time()\n",
    "vocab_size, most_frequent, least_frequent = EDA1(dataRDD, 10)\n",
    "print(\"Wall time: {} seconds\".format(time.time() - start))\n",
    "# Wall time: 369.26355481147766 seconds"
   ]
  },
  {
   "cell_type": "code",
   "execution_count": 31,
   "metadata": {
    "application/vnd.databricks.v1+cell": {
     "inputWidgets": {},
     "nuid": "47c705e3-8578-48ce-82ca-9cf3274ab801",
     "showTitle": false,
     "title": ""
    }
   },
   "outputs": [
    {
     "name": "stdout",
     "output_type": "stream",
     "text": [
      "Vocabulary Size: 269339\n",
      " ---- Top Words ----|--- Bottom Words ----\n",
      "     the 5490815394 |         selims  40\n",
      "      of 3698583299 |    ehrenberg's  40\n",
      "      to 2227866570 |       subnixas  40\n",
      "      in 1421312776 |        mectoie  40\n",
      "       a 1361123022 |      befooleth  40\n",
      "     and 1149577477 |       trilloes  40\n",
      "    that  802921147 |      maltalent  40\n",
      "      is  758328796 |          plaaf  40\n",
      "      be  688707130 | cassivellaunus  40\n",
      "      as  492170314 |        lesueur  40\n"
     ]
    }
   ],
   "source": [
    "# part a - display results (feel free to modify the formatting code if needed)\n",
    "print(\"Vocabulary Size:\", vocab_size)\n",
    "print(\" ---- Top Words ----|--- Bottom Words ----\")\n",
    "for (w1, c1), (w2, c2) in zip(most_frequent, least_frequent):\n",
    "    print(f\"{w1:>8} {c1:>10} |{w2:>15} {c2:>3}\")"
   ]
  },
  {
   "cell_type": "markdown",
   "metadata": {
    "application/vnd.databricks.v1+cell": {
     "inputWidgets": {},
     "nuid": "b9cd59be-634c-4cad-a6a8-209e0c777905",
     "showTitle": false,
     "title": ""
    }
   },
   "source": [
    "Expected output for dataRDD:\n",
    "(bottom words might vary a little due to ties)\n",
    "<pre>\n",
    "Vocabulary Size: 269339\n",
    " ---- Top Words ----|--- Bottom Words ----\n",
    "     the 5490815394 |   schwetzingen  40\n",
    "      of 3698583299 |           cras  40\n",
    "      to 2227866570 |       parcival  40\n",
    "      in 1421312776 |          porti  40\n",
    "       a 1361123022 |    scribbler's  40\n",
    "     and 1149577477 |      washermen  40\n",
    "    that  802921147 |    viscerating  40\n",
    "      is  758328796 |         mildes  40\n",
    "      be  688707130 |      scholared  40\n",
    "      as  492170314 |       jaworski  40\n",
    "</pre>"
   ]
  },
  {
   "cell_type": "markdown",
   "metadata": {
    "application/vnd.databricks.v1+cell": {
     "inputWidgets": {},
     "nuid": "81a856ad-4475-4912-9de7-fa14d6a73044",
     "showTitle": false,
     "title": ""
    }
   },
   "source": [
    "# Question 6: N-gram EDA part 2 (co-occurrences)\n",
    "\n",
    "The computational complexity of synonym analysis depends not only on the number of words, but also on the number of co-ocurrences each word has. In this question you'll take a closer look at that aspect of our data. As before, please test each job on small \"systems test\" (Dickens ngrams) file and on a single file from the Ngram dataset before running the full analysis.\n",
    "\n",
    "### Q6 Tasks:\n",
    "* __a) code:__ Write a spark job that computes:\n",
    "  * the number of unique neighbors (i.e. 5-gram co-occuring words) for each word in the vocabulary. \n",
    "  \n",
    " <pre>\n",
    "  HINT: consider all words within a five-gram to be co-occuring. In other words, a word in a single 5-gram will always have 4 neighbors\n",
    "  EXAMPLE:\n",
    "    the dog ate cat litter \n",
    "    the cat has clean litter \n",
    "    \n",
    "    Vocabulary:\n",
    "    the, dog, ate, litter, cat, has, clean\n",
    "    \n",
    "    Neighbors:\n",
    "    (the, dog) (the, ate) (the, cat) (the, littler), (dog, ate) (dog, cat) (dog, litter), (ate, cat) (ate, litter), (cat, litter)\n",
    "    (the, cat) (the, has) (the, clean) (the, litter), (cat, has) (cat, clean) (cat, litter), (has, clean) (has, litter) (clean, litter)\n",
    "    \n",
    "    Unique neighbors:\n",
    "    the 6\n",
    "    dog 4\n",
    "    ate 4\n",
    "    litter 6\n",
    "    cat 6\n",
    "    has 4\n",
    "    clean 4\n",
    " </pre>\n",
    "    \n",
    "    \n",
    "  * the top 10 words with the most \"neighbors\"\n",
    "  * the bottom 10 words with least \"neighbors\"\n",
    "  * a random sample of 1% of the words' neighbor counts     \n",
    "  __`NOTE:`__ for the last item, please return only the counts and not the words -- we'll go on to use these in a plotting function that expects a list of integers.\n",
    "\n",
    "\n",
    "* __b) short response:__ Use the provided code to plot a histogram of the sampled list from `a`. Comment on the distribution you observe. How will this distribution affect our synonym detection analysis?\n",
    "\n",
    "* __c) code + short response:__ Write a Spark Job to compare word frequencies to number of neighbors.\n",
    "    * Of the 1000 words with most neighbors, what percent are also in the list of 1000 most frequent words?\n",
    "    * Of the 1000 words with least neighbors, what percent are also in the list of 1000 least frequent words?   \n",
    "[__`NOTE:`__ _technically these lists are short enough to compare in memory on your local machine but please design your Spark job as if we were potentially comparing much larger lists._]"
   ]
  },
  {
   "cell_type": "markdown",
   "metadata": {
    "application/vnd.databricks.v1+cell": {
     "inputWidgets": {},
     "nuid": "5c9910e4-476d-4501-998d-08d7e85444af",
     "showTitle": false,
     "title": ""
    }
   },
   "source": [
    "### Q6 Student Answers:\n",
    "\n",
    "> __b)__ From the histograms, we see that most words tend to have fewer cowords because the data is right tail skewed. Most of the words tend to have around 0 to 1000 cowords. There are a few words that have many more cowords, and these are probably stop words like \"the\", \"and\", \"a\". This right tailed distribution will affect our synonym detection analysis by over representing these most co-occurring stop words as synonyms, which would be incorrect since they are just common transitional words in sentences. We should remove these stop words from our analysis and focus on words that co-occurred around 1000 times. We want words that have many co-words but are not common stop words used in almost every sentence, since we will have enough data and instances to capture their synonyms and meaning.\n",
    "\n",
    "> __c)__ Of the 1000 words with most neighbors, 88.0% are also in the list of 1000 most frequent words. Of the 1000 words with least neighbors, 1.9% are also in the list of 1000 least frequent words."
   ]
  },
  {
   "cell_type": "code",
   "execution_count": 17,
   "metadata": {
    "application/vnd.databricks.v1+cell": {
     "inputWidgets": {},
     "nuid": "7965afbc-ba04-4482-91c6-369579a412ed",
     "showTitle": false,
     "title": ""
    }
   },
   "outputs": [],
   "source": [
    "# part a - spark job\n",
    "def EDA2(rdd,n):\n",
    "    top_n, bottom_n, sampled_counts = None, None, None\n",
    "    ############# YOUR CODE HERE ###############\n",
    "    def emitPairs(line:str):\n",
    "        '''\n",
    "        Mapper 1: takes ngram line, emits the pairs of words in it strings seperated by -:\n",
    "        i.e. dog-the\n",
    "        '''\n",
    "        # get the unique words from line in ngram\n",
    "        words = set(line.split('\\t')[0].lower().split())\n",
    "\n",
    "        # go over each pair from words\n",
    "        for pair in itertools.combinations(words, 2):\n",
    "            # sort the pair so the ordering never matters:\n",
    "            # i.e. the-dog = dog-the b/c we always emit dog-the\n",
    "            pair = sorted(pair)\n",
    "            yield f\"{pair[0]}-{pair[1]}\" # ex. dog-the\n",
    "        \n",
    "    def countNbrs(pair:str):\n",
    "        '''\n",
    "        Mapper 2: takes a pair str, emits each word with 1 count\n",
    "        '''\n",
    "        for word in pair.split('-'):\n",
    "            yield (word, 1)\n",
    "    \n",
    "    # get the number of unique neighbors rdd and cache it.\n",
    "    uniqueNbrs = rdd.flatMap(emitPairs) \\\n",
    "                    .distinct() \\\n",
    "                    .flatMap(countNbrs) \\\n",
    "                    .reduceByKey(lambda a, b: a + b) \\\n",
    "                    .cache()\n",
    "    \n",
    "    sampled_counts = uniqueNbrs.sample(False, fraction=0.01, seed=2018)\\\n",
    "                               .map(lambda x: x[1]) \\\n",
    "                               .collect()\n",
    "    \n",
    "    # get the top n words by neighbor count\n",
    "    top_n = uniqueNbrs.takeOrdered(n, key=lambda x: -x[1])\n",
    "    \n",
    "    # get bottom n words by neighbor count\n",
    "    bottom_n = uniqueNbrs.takeOrdered(n, key=lambda x: x[1])\n",
    "    \n",
    "    ############# (END) YOUR CODE ##############\n",
    "    return top_n, bottom_n, sampled_counts"
   ]
  },
  {
   "cell_type": "code",
   "execution_count": 58,
   "metadata": {},
   "outputs": [
    {
     "name": "stdout",
     "output_type": "stream",
     "text": [
      "dog-the---\n",
      "('dog', 1)\n",
      "('the', 1)\n",
      "ate-the---\n",
      "('ate', 1)\n",
      "('the', 1)\n",
      "cat-the---\n",
      "('cat', 1)\n",
      "('the', 1)\n",
      "litter-the---\n",
      "('litter', 1)\n",
      "('the', 1)\n",
      "ate-dog---\n",
      "('ate', 1)\n",
      "('dog', 1)\n",
      "cat-dog---\n",
      "('cat', 1)\n",
      "('dog', 1)\n",
      "dog-litter---\n",
      "('dog', 1)\n",
      "('litter', 1)\n",
      "ate-cat---\n",
      "('ate', 1)\n",
      "('cat', 1)\n",
      "ate-litter---\n",
      "('ate', 1)\n",
      "('litter', 1)\n",
      "cat-litter---\n",
      "('cat', 1)\n",
      "('litter', 1)\n"
     ]
    }
   ],
   "source": [
    "### Testing code - Ignore\n",
    "# test_sent = \"the dog ate cat litter\\t10\\t11\\t12\"\n",
    "\n",
    "# # words = test_sent.split('\\t')[0].lower().split()\n",
    "# # for pair in itertools.combinations(words, 2):\n",
    "# #     # sort the pair so the ordering never matters:\n",
    "# #     # i.e. the-dog = dog-the b/c we always emit dog-the\n",
    "# #     pair = sorted(pair)\n",
    "# #     print(f\"{pair[0]}-{pair[1]}\")\n",
    "    \n",
    "# def emitPairs(line:str):\n",
    "#     '''\n",
    "#     Mapper 1: takes ngram line, emits the pairs of words in it strings seperated by -:\n",
    "#     i.e. dog-the\n",
    "#     '''\n",
    "#     # get the words from line in ngram\n",
    "#     words = line.split('\\t')[0].lower().split()\n",
    "    \n",
    "#     # go over each pair from words\n",
    "#     for pair in itertools.combinations(words, 2):\n",
    "#         # sort the pair so the ordering never matters:\n",
    "#         # i.e. the-dog = dog-the b/c we always emit dog-the\n",
    "#         pair = sorted(pair)\n",
    "#         yield f\"{pair[0]}-{pair[1]}\" # ex. dog-the\n",
    "        \n",
    "# for pair in emitPairs(test_sent):\n",
    "#     print(f\"{pair}---\")\n",
    "#     for word in pair.split('-'):\n",
    "#         print( (word, 1))"
   ]
  },
  {
   "cell_type": "code",
   "execution_count": 70,
   "metadata": {},
   "outputs": [
    {
     "data": {
      "text/plain": [
       "[]"
      ]
     },
     "execution_count": 70,
     "metadata": {},
     "output_type": "execute_result"
    }
   ],
   "source": [
    "### Testing code - IGNORE\n",
    "# def emitPairs(line:str):\n",
    "#     '''\n",
    "#     Mapper 1: takes ngram line, emits the pairs of words in it strings seperated by -:\n",
    "#     i.e. dog-the\n",
    "#     '''\n",
    "#     # get the words from line in ngram\n",
    "#     words = set(line.split('\\t')[0].lower().split())\n",
    "    \n",
    "#     # go over each pair from words\n",
    "#     for pair in itertools.combinations(words, 2):\n",
    "#         # sort the pair so the ordering never matters:\n",
    "#         # i.e. the-dog = dog-the b/c we always emit dog-the\n",
    "#         pair = sorted(pair)\n",
    "#         yield f\"{pair[0]}-{pair[1]}\" # ex. dog-the\n",
    "        \n",
    "# def countNbrs(pair:str):\n",
    "#     '''\n",
    "#     Mapper 2: takes a pair str, emits each word with 1 count\n",
    "#     '''\n",
    "#     for word in pair.split('-'):\n",
    "#         yield (word, 1)\n",
    "\n",
    "# uniqueNbrs = testRDD.flatMap(emitPairs) \\\n",
    "#                     .distinct() \\\n",
    "#                     .flatMap(countNbrs) \\\n",
    "#                     .reduceByKey(lambda a, b: a + b) \\\n",
    "                     \n",
    "\n",
    "# uniqueNbrs.take(10)\n",
    "# # uniqueNbrs.count()\n",
    "# uniqueNbrs.sample(False, 0.01, 81)\\\n",
    "#           .map(lambda x: x[1]) \\\n",
    "#           .collect()"
   ]
  },
  {
   "cell_type": "code",
   "execution_count": 18,
   "metadata": {
    "application/vnd.databricks.v1+cell": {
     "inputWidgets": {},
     "nuid": "28365223-462e-4232-abd6-cfa2bc38af66",
     "showTitle": false,
     "title": ""
    }
   },
   "outputs": [
    {
     "name": "stdout",
     "output_type": "stream",
     "text": [
      "Wall time: 0.9295516014099121 seconds\n"
     ]
    }
   ],
   "source": [
    "# part a - systems test (RUN THIS CELL AS IS)\n",
    "start = time.time()\n",
    "most_nbrs, least_nbrs, sample_counts = EDA2(testRDD, 10)\n",
    "print(\"Wall time: {} seconds\".format(time.time() - start))\n",
    "# Wall time: 2.1621551513671875 seconds"
   ]
  },
  {
   "cell_type": "code",
   "execution_count": 19,
   "metadata": {
    "application/vnd.databricks.v1+cell": {
     "inputWidgets": {},
     "nuid": "d387813d-7682-467e-b501-d3332ca207fb",
     "showTitle": false,
     "title": ""
    }
   },
   "outputs": [
    {
     "name": "stdout",
     "output_type": "stream",
     "text": [
      " --- Most Co-Words ---|--- Least Co-Words ----\n",
      "         was        9 |     foolishness    4\n",
      "          of        9 |            best    5\n",
      "         the        9 |           worst    5\n",
      "          it        8 |          wisdom    5\n",
      "         age        7 |             age    7\n",
      "       times        7 |           times    7\n",
      "        best        5 |              it    8\n",
      "       worst        5 |             was    9\n",
      "      wisdom        5 |              of    9\n",
      " foolishness        4 |             the    9\n"
     ]
    }
   ],
   "source": [
    "# part a - display results (feel free to modify the formatting code if needed)\n",
    "print(\" --- Most Co-Words ---|--- Least Co-Words ----\")\n",
    "for (w1, c1), (w2, c2) in zip(most_nbrs, least_nbrs):\n",
    "    print(f\"{w1:>12} {c1:>8} |{w2:>16} {c2:>4}\")"
   ]
  },
  {
   "cell_type": "markdown",
   "metadata": {
    "application/vnd.databricks.v1+cell": {
     "inputWidgets": {},
     "nuid": "a002829e-8e36-40ec-bde8-1d7d8a39d104",
     "showTitle": false,
     "title": ""
    }
   },
   "source": [
    "Expected output for testRDD:\n",
    "<pre>\n",
    " --- Most Co-Words ---|--- Least Co-Words ----\n",
    "         was        9 |     foolishness    4\n",
    "          of        9 |            best    5\n",
    "         the        9 |           worst    5\n",
    "          it        8 |          wisdom    5\n",
    "         age        7 |             age    7\n",
    "       times        7 |           times    7\n",
    "        best        5 |              it    8\n",
    "       worst        5 |             was    9\n",
    "      wisdom        5 |              of    9\n",
    " foolishness        4 |             the    9\n",
    " </pre>"
   ]
  },
  {
   "cell_type": "code",
   "execution_count": 20,
   "metadata": {
    "application/vnd.databricks.v1+cell": {
     "inputWidgets": {},
     "nuid": "f23d9344-a019-4985-bb5b-f98a7bf03bb6",
     "showTitle": false,
     "title": ""
    }
   },
   "outputs": [
    {
     "name": "stderr",
     "output_type": "stream",
     "text": [
      "[Stage 13:>                                                         (0 + 2) / 2]\r"
     ]
    },
    {
     "name": "stdout",
     "output_type": "stream",
     "text": [
      "Wall time: 5.506990909576416 seconds\n"
     ]
    },
    {
     "name": "stderr",
     "output_type": "stream",
     "text": [
      "                                                                                \r"
     ]
    }
   ],
   "source": [
    "# part a - single file test (RUN THIS CELL AS IS)\n",
    "start = time.time()\n",
    "most_nbrs, least_nbrs, sample_counts = EDA2(f1RDD, 10)\n",
    "print(\"Wall time: {} seconds\".format(time.time() - start))\n",
    "# Wall time: 10.43604040145874 seconds"
   ]
  },
  {
   "cell_type": "code",
   "execution_count": 21,
   "metadata": {
    "application/vnd.databricks.v1+cell": {
     "inputWidgets": {},
     "nuid": "9722b282-a935-48c6-8a10-54a72290f639",
     "showTitle": false,
     "title": ""
    }
   },
   "outputs": [
    {
     "name": "stdout",
     "output_type": "stream",
     "text": [
      " --- Most Co-Words ---|--- Least Co-Words ----\n",
      "         the    25548 |              vo    1\n",
      "          of    22496 |      noncleaved    2\n",
      "         and    16489 |        premiers    2\n",
      "          to    14249 |        enclaves    2\n",
      "          in    13891 |   selectiveness    2\n",
      "           a    13045 |           trill    2\n",
      "        that     8011 |           pizza    2\n",
      "          is     7947 |            hoot    2\n",
      "        with     7552 |     palpitation    2\n",
      "          by     7400 |            twel    2\n"
     ]
    }
   ],
   "source": [
    "# part a - display results (feel free to modify the formatting code if needed)\n",
    "print(\" --- Most Co-Words ---|--- Least Co-Words ----\")\n",
    "for (w1, c1), (w2, c2) in zip(most_nbrs, least_nbrs):\n",
    "    print(f\"{w1:>12} {c1:>8} |{w2:>16} {c2:>4}\")"
   ]
  },
  {
   "cell_type": "markdown",
   "metadata": {
    "application/vnd.databricks.v1+cell": {
     "inputWidgets": {},
     "nuid": "91305880-710d-4bea-8611-be8482ff1fb6",
     "showTitle": false,
     "title": ""
    }
   },
   "source": [
    "Expected output for f1RDD:\n",
    "<pre>\n",
    " --- Most Co-Words ---|--- Least Co-Words ----\n",
    "         the    25548 |              vo    1\n",
    "          of    22496 |      noncleaved    2\n",
    "         and    16489 |        premiers    2\n",
    "          to    14249 |        enclaves    2\n",
    "          in    13891 |   selectiveness    2\n",
    "           a    13045 |           trill    2\n",
    "        that     8011 |           pizza    2\n",
    "          is     7947 |            hoot    2\n",
    "        with     7552 |     palpitation    2\n",
    "          by     7400 |            twel    2\n",
    "</pre>"
   ]
  },
  {
   "cell_type": "code",
   "execution_count": 22,
   "metadata": {
    "application/vnd.databricks.v1+cell": {
     "inputWidgets": {},
     "nuid": "7c1d0769-3bbb-4c2f-886c-a6c286d1552c",
     "showTitle": false,
     "title": ""
    }
   },
   "outputs": [
    {
     "name": "stderr",
     "output_type": "stream",
     "text": [
      "[Stage 29:=============================================>        (159 + 4) / 190]\r"
     ]
    },
    {
     "name": "stdout",
     "output_type": "stream",
     "text": [
      "Wall time: 702.0482034683228 seconds\n"
     ]
    },
    {
     "name": "stderr",
     "output_type": "stream",
     "text": [
      "                                                                                \r"
     ]
    }
   ],
   "source": [
    "# part a - full data (RUN THIS CELL AS IS)\n",
    "start = time.time()\n",
    "most_nbrs, least_nbrs, sample_counts = EDA2(dataRDD, 10)\n",
    "print(\"Wall time: {} seconds\".format(time.time() - start))\n",
    "# Wall time: 1204.2034149169922 seconds"
   ]
  },
  {
   "cell_type": "code",
   "execution_count": 23,
   "metadata": {
    "application/vnd.databricks.v1+cell": {
     "inputWidgets": {},
     "nuid": "dd5932f9-e92a-4001-a11f-7fe9ef1441ad",
     "showTitle": false,
     "title": ""
    }
   },
   "outputs": [
    {
     "name": "stdout",
     "output_type": "stream",
     "text": [
      " --- Most Co-Words ---|--- Least Co-Words ----\n",
      "         the   164982 |          cococo    1\n",
      "          of   155708 |            inin    1\n",
      "         and   132814 |        charuhas    1\n",
      "          in   110615 |         ooooooo    1\n",
      "          to    94358 |           iiiii    1\n",
      "           a    89197 |          iiiiii    1\n",
      "          by    67266 |             cnj    1\n",
      "        with    65127 |            choh    1\n",
      "        that    61174 |             neg    1\n",
      "          as    60652 |      cococococo    1\n"
     ]
    }
   ],
   "source": [
    "# part a - display results (feel free to modify the formatting code if needed)\n",
    "print(\" --- Most Co-Words ---|--- Least Co-Words ----\")\n",
    "for (w1, c1), (w2, c2) in zip(most_nbrs, least_nbrs):\n",
    "    print(f\"{w1:>12} {c1:>8} |{w2:>16} {c2:>4}\")"
   ]
  },
  {
   "cell_type": "markdown",
   "metadata": {
    "application/vnd.databricks.v1+cell": {
     "inputWidgets": {},
     "nuid": "5d6764e4-62a4-4fce-9761-9aa5ee03d30e",
     "showTitle": false,
     "title": ""
    }
   },
   "source": [
    "Expected output for dataRDD: \n",
    "(bottom words might vary a little due to ties)\n",
    "<pre>\n",
    " --- Most Co-Words ---|--- Least Co-Words ----\n",
    "         the   164982 |          cococo    1\n",
    "          of   155708 |            inin    1\n",
    "         and   132814 |        charuhas    1\n",
    "          in   110615 |         ooooooo    1\n",
    "          to    94358 |           iiiii    1\n",
    "           a    89197 |          iiiiii    1\n",
    "          by    67266 |             cnj    1\n",
    "        with    65127 |            choh    1\n",
    "        that    61174 |             neg    1\n",
    "          as    60652 |      cococococo    1\n",
    "</pre>"
   ]
  },
  {
   "cell_type": "markdown",
   "metadata": {
    "application/vnd.databricks.v1+cell": {
     "inputWidgets": {},
     "nuid": "589e0ce5-0d5e-4d34-8948-1f907fb3d316",
     "showTitle": false,
     "title": ""
    }
   },
   "source": [
    "__`NOTE:`__ _before running the plotting code below, make sure that the variable_ `sample_counts` _points to the list generated in_ `part a`."
   ]
  },
  {
   "cell_type": "code",
   "execution_count": 26,
   "metadata": {
    "application/vnd.databricks.v1+cell": {
     "inputWidgets": {},
     "nuid": "41df9fd4-f75a-45f3-86f9-46d207136f18",
     "showTitle": false,
     "title": ""
    }
   },
   "outputs": [
    {
     "name": "stdout",
     "output_type": "stream",
     "text": [
      "NOTE: we'll exclude the 6 words with more than 6000 nbrs in this 2749 count sample.\n"
     ]
    },
    {
     "data": {
      "image/png": "[encoded data removed]",
      "text/plain": [
       "<Figure size 1080x360 with 2 Axes>"
      ]
     },
     "metadata": {
      "needs_background": "light"
     },
     "output_type": "display_data"
    }
   ],
   "source": [
    "# part b - plot histogram (RUN THIS CELL AS IS - feel free to modify format)\n",
    "\n",
    "# removing extreme upper tail for a better visual\n",
    "counts = np.array(sample_counts)[np.array(sample_counts) < 6000]\n",
    "t = sum(np.array(sample_counts) > 6000)\n",
    "n = len(counts)\n",
    "print(\"NOTE: we'll exclude the %s words with more than 6000 nbrs in this %s count sample.\" % (t,n))\n",
    "\n",
    "# set up figure\n",
    "fig, (ax1, ax2) = plt.subplots(1,2, figsize = (15,5))\n",
    "\n",
    "# plot regular hist\n",
    "ax1.hist(counts, bins=50)\n",
    "ax1.set_title('Freqency of Number of Co-Words', color='0.1')\n",
    "ax1.set_facecolor('0.9')\n",
    "ax1.tick_params(axis='both', colors='0.1')\n",
    "ax1.grid(True)\n",
    "\n",
    "# plot log scale hist\n",
    "ax2.hist(counts, bins=50)\n",
    "ax2.set_title('(log)Freqency of Number of Co-Words', color='0.1')\n",
    "ax2.set_facecolor('0.9')\n",
    "ax2.tick_params(axis='both', colors='0.1')\n",
    "ax2.grid(True)\n",
    "plt.yscale('log')\n"
   ]
  },
  {
   "cell_type": "code",
   "execution_count": 24,
   "metadata": {
    "application/vnd.databricks.v1+cell": {
     "inputWidgets": {},
     "nuid": "15310f55-9345-4dd1-907b-a719f475e693",
     "showTitle": false,
     "title": ""
    }
   },
   "outputs": [],
   "source": [
    "# part c - spark job\n",
    "def compareRankings(rdd1, rdd2):\n",
    "    percent_overlap = None\n",
    "    ############# YOUR CODE HERE ###############\n",
    "    rdd1_words = rdd1.map(lambda x: x[0]) # get the words\n",
    "    rdd2_words = rdd2.map(lambda x: x[0]) # get the words\n",
    "    \n",
    "    # count the overlap between rdds\n",
    "    cnt_overlap = rdd1_words.intersection(rdd2_words) \\\n",
    "                            .count()\n",
    "    \n",
    "    percent_overlap = 100 * cnt_overlap/rdd1.count()\n",
    "    \n",
    "    \n",
    "    ############# (END) YOUR CODE ##############\n",
    "    return percent_overlap"
   ]
  },
  {
   "cell_type": "code",
   "execution_count": null,
   "metadata": {
    "application/vnd.databricks.v1+cell": {
     "inputWidgets": {},
     "nuid": "daa4ad30-6c4d-4622-8bd6-1a5c6f94287e",
     "showTitle": false,
     "title": ""
    }
   },
   "outputs": [
    {
     "name": "stderr",
     "output_type": "stream",
     "text": [
      "                                                                                \r"
     ]
    },
    {
     "name": "stdout",
     "output_type": "stream",
     "text": [
      "Of the 1000 words with most neighbors, 88.0 percent are also in the list of 1000 most frequent words.\n",
      "Of the 1000 words with least neighbors, 1.9 percent are also in the list of 1000 least frequent words.\n"
     ]
    }
   ],
   "source": [
    "# part c - get lists for comparison (RUN THIS CELL AS IS...)\n",
    "# (... then change 'testRDD' to 'f1RDD'/'dataRDD' when ready)\n",
    "total, topWords, bottomWords = EDA1(dataRDD, 1000)\n",
    "topNbrs, bottomNbrs, sample_counts = EDA2(dataRDD, 1000)\n",
    "twRDD = sc.parallelize(topWords)\n",
    "bwRDD = sc.parallelize(bottomWords)\n",
    "tnRDD = sc.parallelize(topNbrs)\n",
    "bnRDD = sc.parallelize(bottomNbrs)\n",
    "top_overlap = compareRankings(tnRDD, twRDD)\n",
    "bottom_overlap = compareRankings(bnRDD,bwRDD)\n",
    "print(f\"Of the 1000 words with most neighbors, {top_overlap} percent are also in the list of 1000 most frequent words.\")\n",
    "print(f\"Of the 1000 words with least neighbors, {bottom_overlap} percent are also in the list of 1000 least frequent words.\")"
   ]
  },
  {
   "cell_type": "markdown",
   "metadata": {
    "application/vnd.databricks.v1+cell": {
     "inputWidgets": {},
     "nuid": "8bda2949-b3f0-4446-8010-4f3d53bfd605",
     "showTitle": false,
     "title": ""
    }
   },
   "source": [
    "# Question 7: Basis Vocabulary & Stripes\n",
    "\n",
    "Every word that appears in our data is a potential feature for our synonym detection analysis. However as we've discussed, some are likely to be more useful than others. In this question, you'll choose a judicious subset of these words to form our 'basis vocabulary'. Practically speaking, this means that when we build our stripes, we are only going to keep track of when a term co-occurs with one of these basis words. \n",
    "\n",
    "\n",
    "### Q7 Tasks:\n",
    "* __a) multiple choice:__ Suppose we were deciding between two different basis vocabularies: the 1000 most frequent words or the 1000 least frequent words. How would this choice impact the quality of the synonyms we are able to detect? How does this choice relate to the ideas of 'overfitting' or 'underfitting' a training set?\n",
    "<pre>  \n",
    "  MULTIPLE CHOICE:\n",
    "   A. 1000 most frequent words would overfit, while 1000 least frequent words would underfit\n",
    "   B. 1000 most frequent words would underfit, while 1000 least frequent words would overfit\n",
    "  \n",
    "  BONUS: Explain your answer \n",
    "</pre>\n",
    "* __b) short response:__ If we had a much larger dataset, computing the full ordered list of words would be extremely expensive. If we need to none-the-less get an estimate of word frequency in order to decide on a basis vocabulary, what alternative strategy could we take?\n",
    "\n",
    "* __c) multiple choice:__ Run the provided spark job that does the following:\n",
    "  * tokenizes, removes stopwords and computes a word count on the ngram data\n",
    "  * subsets the top 10,000 words (these are the terms we'll consider as potential synonyms)\n",
    "  * subsets words 9,000-9,999 (this will be our 1,000 word basis vocabulary)    \n",
    "  (to put it another way - of the top 10,000 words, the bottom 1,000 form the basis vocabulary)\n",
    "  * saves the full 10K word list and the 1K basis vocabulary to file for use in `d`.  \n",
    "<pre>\n",
    "  What is another way to describe the Basis Vocabulary in machine learning terms?\n",
    "  A. Stop-words\n",
    "  B. Features\n",
    "  C. Postings\n",
    "  D. 1000-grams\n",
    "</pre>\n",
    "\n",
    "* __d) code:__ Write a spark job that builds co-occurrence stripes for the top 10K words in the ngram data using the basis vocabulary you developed in `part c`. This job/function, unlike others so far, should return an RDD (which we will then use in q8)."
   ]
  },
  {
   "cell_type": "markdown",
   "metadata": {
    "application/vnd.databricks.v1+cell": {
     "inputWidgets": {},
     "nuid": "7b533d39-a950-40cc-b529-05216c6872d8",
     "showTitle": false,
     "title": ""
    }
   },
   "source": [
    "### Q7 Student Answers:\n",
    "> __a)__ B) 1000 most frequent words would underfit, while 1000 least frequent words would overfit   \n",
    "> __a-bonus)__ The 1000 most frequent words as the basis would mean that stop words and words having the most neighbors would all be counted as neighbors for our training data. These words co-occur with just about the entire English language, so our model would not be able to learn meaning, context, or synonyms from being neighbors with them. The 1000 least frequent words will overfit because if our model sees a co-word from this basis as a neighbor, it will extrapolate it as a synonym rather than it being just one of that word's few occurrences.    \n",
    "\n",
    "> __b)__ To estimate the word frequency, we can do random sampling to get a subset of that data and use the word frequencies computed on that to determine our basis.  \n",
    "\n",
    "> __c)__ The basis vocabulary is the \"Features\"."
   ]
  },
  {
   "cell_type": "code",
   "execution_count": 26,
   "metadata": {
    "application/vnd.databricks.v1+cell": {
     "inputWidgets": {},
     "nuid": "b853bc36-399b-4f21-af49-697c2019f6a9",
     "showTitle": false,
     "title": ""
    }
   },
   "outputs": [],
   "source": [
    "# part c - provided stopwords (RUN THIS CELL AS IS)\n",
    "STOPWORDS =  ['i', 'me', 'my', 'myself', 'we', 'our', 'ours', \n",
    "              'ourselves', 'you', 'your', 'yours', 'yourself', \n",
    "              'yourselves', 'he', 'him', 'his', 'himself', 'she', \n",
    "              'her', 'hers', 'herself', 'it', 'its', 'itself', \n",
    "              'they', 'them', 'their', 'theirs', 'themselves', \n",
    "              'what', 'which', 'who', 'whom', 'this', 'that', \n",
    "              'these', 'those', 'am', 'is', 'are', 'was', 'were', \n",
    "              'be', 'been', 'being', 'have', 'has', 'had', 'having', \n",
    "              'do', 'does', 'did', 'doing', 'a', 'an', 'the', 'and', \n",
    "              'but', 'if', 'or', 'because', 'as', 'until', 'while', \n",
    "              'of', 'at', 'by', 'for', 'with', 'about', 'against', \n",
    "              'between', 'into', 'through', 'during', 'before', \n",
    "              'after', 'above', 'below', 'to', 'from', 'up', 'down', \n",
    "              'in', 'out', 'on', 'off', 'over', 'under', 'again', \n",
    "              'further', 'then', 'once', 'here', 'there', 'when', \n",
    "              'where', 'why', 'how', 'all', 'any', 'both', 'each', \n",
    "              'few', 'more', 'most', 'other', 'some', 'such', 'no', \n",
    "              'nor', 'not', 'only', 'own', 'same', 'so', 'than', \n",
    "              'too', 'very', 'should', 'can', 'now', 'will', 'just', \n",
    "              'would', 'could', 'may', 'must', 'one', 'much', \"it's\",\n",
    "              \"can't\", \"won't\", \"don't\", \"shouldn't\", \"hasn't\"]"
   ]
  },
  {
   "cell_type": "code",
   "execution_count": 27,
   "metadata": {
    "application/vnd.databricks.v1+cell": {
     "inputWidgets": {},
     "nuid": "6f3bad8f-3d76-401d-8687-e16db841de68",
     "showTitle": false,
     "title": ""
    }
   },
   "outputs": [],
   "source": [
    "# part c - get the vocabulary and basis (RUN THIS CELL AS IS)\n",
    "# \n",
    "def get_vocab(rdd, n_total, n_basis):\n",
    "    vocab, basis = None, None\n",
    "    ############# YOUR CODE HERE ###############\n",
    "    sw = sc.broadcast(set(STOPWORDS))\n",
    "    top_10k = rdd.map(lambda line: line.split('\\t')[0:2])\\\n",
    "                 .flatMap(lambda x: [(w, int(x[1])) for w in x[0].lower().split() \n",
    "                                     if w not in sw.value])\\\n",
    "                 .reduceByKey(lambda x,y: x+y)\\\n",
    "                 .takeOrdered(n_total, key=lambda x: -x[1])\n",
    "    vocab = [pair[0] for pair in top_10k]\n",
    "    basis = vocab[n_total - n_basis:]\n",
    "    ############# (END) YOUR CODE ##############\n",
    "    return vocab, basis"
   ]
  },
  {
   "cell_type": "code",
   "execution_count": 28,
   "metadata": {
    "application/vnd.databricks.v1+cell": {
     "inputWidgets": {},
     "nuid": "817d0400-d9a5-4f5f-9fc8-106fc2614c75",
     "showTitle": false,
     "title": ""
    }
   },
   "outputs": [
    {
     "name": "stdout",
     "output_type": "stream",
     "text": [
      "Wall time: 150.75260758399963 seconds\n"
     ]
    }
   ],
   "source": [
    "# part c - run your job (RUN THIS CELL AS IS)\n",
    "start = time.time()\n",
    "VOCAB, BASIS = get_vocab(dataRDD, 10000, 1000)\n",
    "print(\"Wall time: {} seconds\".format(time.time() - start))\n",
    "# Wall time: 268.0176115036011 seconds"
   ]
  },
  {
   "cell_type": "code",
   "execution_count": 29,
   "metadata": {
    "application/vnd.databricks.v1+cell": {
     "inputWidgets": {},
     "nuid": "320fa840-3dd9-40ce-9584-4e7861d5b8f2",
     "showTitle": false,
     "title": ""
    }
   },
   "outputs": [],
   "source": [
    "# part c - save to file (RUN THIS CELL AS IS)\n",
    "with open(\"vocabulary.txt\", \"w\") as file:\n",
    "    file.write(str(VOCAB))\n",
    "with open(\"basis.txt\", \"w\") as file:\n",
    "    file.write(str(BASIS))"
   ]
  },
  {
   "cell_type": "code",
   "execution_count": 46,
   "metadata": {},
   "outputs": [],
   "source": [
    "### Playing with sets testing: IGNORE\n",
    "# tmp = ['adviser', 'bucket', 'pitched']\n",
    "\n",
    "# tmp_set = set(tmp)\n",
    "\n",
    "# # check if sets can be iterated through\n",
    "# for i in tmp_set:\n",
    "#     print(i)\n",
    "    \n",
    "# {i for i in range(10)}\n",
    "\n",
    "# print(tmp_set)\n",
    "# tmp_set.add(\"anand\")\n",
    "# print(tmp_set)\n",
    "# tmp_set2 = set([\"ryan\", \"sandwich\"])\n",
    "\n",
    "# big_set = tmp_set.union(tmp_set2)\n",
    "# print(big_set)"
   ]
  },
  {
   "cell_type": "code",
   "execution_count": 30,
   "metadata": {
    "application/vnd.databricks.v1+cell": {
     "inputWidgets": {},
     "nuid": "e26c9657-5646-4835-b065-489c874ad30b",
     "showTitle": false,
     "title": ""
    }
   },
   "outputs": [],
   "source": [
    "# part d - spark job\n",
    "def buildStripes(rdd, vocab, basis):\n",
    "    stripesRDD = None\n",
    "    ############# YOUR CODE HERE ###############\n",
    "    vocab_set = sc.broadcast(set(vocab)) # get unique values and broadcast them\n",
    "    basis_set = sc.broadcast(set(basis)) \n",
    "    \n",
    "    def makeStripes(line: str, vocab_set: set, basis_set: set):\n",
    "        \"\"\"\n",
    "        Function to map line to a stripes for each word.\n",
    "        ---\n",
    "        Input: str of raw line.\n",
    "        Outputs: tuple: ('age', {'foolishness', 'wisdom', 'times'}).\n",
    "        \"\"\"\n",
    "        # get the words in this line\n",
    "        words = line.lower().split('\\t')[0].split(' ')\n",
    "        \n",
    "        # get the words only in our vocab set of 10,000\n",
    "        words_in_vocab = [w for w in words if w in vocab_set]\n",
    "        \n",
    "        # go through each word, make stripe (add only if neighbor is in basis_set)\n",
    "        for word in words_in_vocab:\n",
    "            # form a stripe\n",
    "            stripe = set()\n",
    "            for coword in words_in_vocab:\n",
    "                if coword != word and coword in basis_set:\n",
    "                    # if this coword is not the original word and it is in basis\n",
    "                    # then add it to the stripe set\n",
    "                    stripe.add(coword)\n",
    "            # emit if the stripe is not empty\n",
    "            if stripe:\n",
    "                yield (word, stripe)\n",
    "    \n",
    "    def sumStripes(stripe1:set, stripe2:set):\n",
    "        \"\"\"\n",
    "        Function to add contents of smaller stripe to bigger stripe. \n",
    "        Copies less elements over for efficiency.\n",
    "        ----\n",
    "        Input: 2 stripe sets for a common key word.\n",
    "        Output: 1 stripe set with both stripe elements added.\n",
    "        \"\"\"\n",
    "        if len(stripe1) > len(stripe2):\n",
    "            stripe1.update(stripe2)\n",
    "            return stripe1\n",
    "        else:\n",
    "            stripe2.update(stripe1)\n",
    "            return stripe2\n",
    "    \n",
    "    stripesRDD = rdd.flatMap(lambda x: makeStripes(x, vocab_set.value, basis_set.value)) \\\n",
    "                    .reduceByKey(sumStripes)\n",
    "    \n",
    "    \n",
    "    # output stripesRDD should be tuple (word, set{co-occuring words})\n",
    "    \n",
    "    ############# (END) YOUR CODE ##############\n",
    "    return stripesRDD"
   ]
  },
  {
   "cell_type": "code",
   "execution_count": 31,
   "metadata": {
    "application/vnd.databricks.v1+cell": {
     "inputWidgets": {},
     "nuid": "2a70b273-fb86-4f86-8111-a3480ecf18a7",
     "showTitle": false,
     "title": ""
    }
   },
   "outputs": [
    {
     "name": "stdout",
     "output_type": "stream",
     "text": [
      "[('best', {'times'}), ('worst', {'times'}), ('foolishness', {'age'}), ('age', {'foolishness', 'times', 'wisdom'}), ('wisdom', {'age'}), ('times', {'worst', 'age', 'best'})]\n",
      "Wall time: 0.14695525169372559 seconds\n"
     ]
    },
    {
     "data": {
      "text/plain": [
       "\"\\n[('worst', {'times'}), ('best', {'times'}), ('foolishness', {'age'}), ('age', {'wisdom', 'foolishness', 'times'}), ('wisdom', {'age'}), ('times', {'age', 'best', 'worst'})]\\n\""
      ]
     },
     "execution_count": 31,
     "metadata": {},
     "output_type": "execute_result"
    }
   ],
   "source": [
    "# part d - run your systems test (RUN THIS CELL AS IS)\n",
    "VOCAB, BASIS = get_vocab(testRDD, 10, 10)\n",
    "testStripesRDD = buildStripes(testRDD, VOCAB, BASIS)\n",
    "start = time.time()\n",
    "print(testStripesRDD.collect())\n",
    "print(\"Wall time: {} seconds\".format(time.time() - start))\n",
    "# Wall time: 0.1581110954284668 seconds\n",
    "# Expected results\n",
    "'''\n",
    "[('worst', {'times'}), ('best', {'times'}), ('foolishness', {'age'}), ('age', {'wisdom', 'foolishness', 'times'}), ('wisdom', {'age'}), ('times', {'age', 'best', 'worst'})]\n",
    "'''"
   ]
  },
  {
   "cell_type": "code",
   "execution_count": 32,
   "metadata": {
    "application/vnd.databricks.v1+cell": {
     "inputWidgets": {},
     "nuid": "2d6a2071-70d0-482b-9290-4e91d9f543d9",
     "showTitle": false,
     "title": ""
    }
   },
   "outputs": [
    {
     "name": "stdout",
     "output_type": "stream",
     "text": [
      "[('zippor', {'balak'}), ('zedong', {'mao'}), ('zeal', {'infallibility'}), ('youth', {'mould', 'constrained'}), ('younger', {'careers'})]\n",
      "Wall time: 0.5678198337554932 seconds\n"
     ]
    },
    {
     "data": {
      "text/plain": [
       "\"\\n[('zippor', {'balak'}), ('zedong', {'mao'}), ('zeal', {'infallibility'}), ('youth', {'mould', 'constrained'}), ('younger', {'careers'})]\\n\""
      ]
     },
     "execution_count": 32,
     "metadata": {},
     "output_type": "execute_result"
    }
   ],
   "source": [
    "# part d - run your single file test (RUN THIS CELL AS IS)\n",
    "VOCAB, BASIS = get_vocab(f1RDD, 10000, 1000)\n",
    "f1StripesRDD = buildStripes(f1RDD, VOCAB, BASIS).cache()\n",
    "start = time.time()\n",
    "print(f1StripesRDD.top(5))\n",
    "print(\"Wall time: {} seconds\".format(time.time() - start))\n",
    "# Wall time: 1.55739426612854 seconds\n",
    "# Expected results\n",
    "'''\n",
    "[('zippor', {'balak'}), ('zedong', {'mao'}), ('zeal', {'infallibility'}), ('youth', {'mould', 'constrained'}), ('younger', {'careers'})]\n",
    "'''"
   ]
  },
  {
   "cell_type": "code",
   "execution_count": 33,
   "metadata": {
    "application/vnd.databricks.v1+cell": {
     "inputWidgets": {},
     "nuid": "470096b5-c854-4a3a-b8b7-50e45cd23c72",
     "showTitle": false,
     "title": ""
    }
   },
   "outputs": [
    {
     "name": "stdout",
     "output_type": "stream",
     "text": [
      "zones\n",
      "['localities', 'subdivided', 'adhesion', 'environments', 'gaza', 'uppermost', 'residential', 'saturation', 'parks', 'remotest', 'warmer', 'buffer']\n",
      "-------\n",
      "zone\n",
      "['intervening', 'excitation', 'uppermost', 'trigger', 'southeastern', 'unusually', 'au', 'parked', 'buffer', 'originate', 'tribal', 'diffuse', 'ie', 'poorly', 'residential', 'cartilage', 'auxiliary', 'narrower', 'officially', 'penis', 'inorganic', 'assisting', 'fibrous', 'sandy', 'cracks', 'traversed', 'contamination', 'articular', 'alaska', 'flexor', 'penetrating', 'accumulate', 'defines', 'atlas', 'persia', 'vomiting', 'subdivided', 'illuminated', 'saturation', 'americas', 'masculine', 'turbulent', 'transitional', 'guides', 'avoidance', 'glowing']\n",
      "-------\n",
      "zinc\n",
      "['transcription', 'dipped', 'burns', 'leukemia', 'metallic', 'pancreas', 'insoluble', 'diamond', 'dysfunction', 'wasting', 'hydroxide', 'dietary', 'ammonium', 'coating', \"alzheimer's\", 'weighing', 'phosphorus', 'radioactive']\n",
      "-------\n",
      "Wall time: 101.72052788734436 seconds\n"
     ]
    },
    {
     "data": {
      "text/plain": [
       "'\\nzones\\n[\\'remotest\\', \\'adhesion\\', \\'residential\\', \\'subdivided\\', \\'environments\\', \\'gaza\\', \\'saturation\\', \\'localities\\', \\'uppermost\\', \\'warmer\\', \\'buffer\\', \\'parks\\']\\n-------\\nzone\\n[\\'tribal\\', \\'narrower\\', \\'fibrous\\', \\'saturation\\', \\'originate\\', \\'auxiliary\\', \\'ie\\', \\'buffer\\', \\'transitional\\', \\'turbulent\\', \\'vomiting\\', \\'americas\\', \\'articular\\', \\'poorly\\', \\'intervening\\', \\'officially\\', \\'accumulate\\', \\'assisting\\', \\'flexor\\', \\'traversed\\', \\'unusually\\', \\'uppermost\\', \\'cartilage\\', \\'inorganic\\', \\'illuminated\\', \\'glowing\\', \\'contamination\\', \\'trigger\\', \\'masculine\\', \\'defines\\', \\'avoidance\\', \\'residential\\', \\'southeastern\\', \\'penis\\', \\'cracks\\', \\'atlas\\', \\'excitation\\', \\'persia\\', \\'diffuse\\', \\'subdivided\\', \\'alaska\\', \\'guides\\', \\'au\\', \\'sandy\\', \\'penetrating\\', \\'parked\\']\\n-------\\nzinc\\n[\\'ammonium\\', \\'coating\\', \\'pancreas\\', \\'insoluble\\', \"alzheimer\\'s\", \\'diamond\\', \\'radioactive\\', \\'metallic\\', \\'weighing\\', \\'dysfunction\\', \\'wasting\\', \\'phosphorus\\', \\'transcription\\', \\'dipped\\', \\'hydroxide\\', \\'burns\\', \\'leukemia\\', \\'dietary\\']\\n-------\\n'"
      ]
     },
     "execution_count": 33,
     "metadata": {},
     "output_type": "execute_result"
    }
   ],
   "source": [
    "# part d - run the full analysis and take a look at a few stripes (RUN THIS CELL AS IS)\n",
    "VOCAB = ast.literal_eval(open(\"vocabulary.txt\", \"r\").read())\n",
    "BASIS = ast.literal_eval(open(\"basis.txt\", \"r\").read())\n",
    "stripesRDD = buildStripes(dataRDD, VOCAB, BASIS).cache()\n",
    "\n",
    "start = time.time()\n",
    "for wrd, stripe in stripesRDD.top(3):\n",
    "    print(wrd)\n",
    "    print(list(stripe))\n",
    "    print('-------')\n",
    "print(\"Wall time: {} seconds\".format(time.time() - start))\n",
    "# Wall time: 214.13801431655884 seconds\n",
    "# Expected results:\n",
    "'''\n",
    "zones\n",
    "['remotest', 'adhesion', 'residential', 'subdivided', 'environments', 'gaza', 'saturation', 'localities', 'uppermost', 'warmer', 'buffer', 'parks']\n",
    "-------\n",
    "zone\n",
    "['tribal', 'narrower', 'fibrous', 'saturation', 'originate', 'auxiliary', 'ie', 'buffer', 'transitional', 'turbulent', 'vomiting', 'americas', 'articular', 'poorly', 'intervening', 'officially', 'accumulate', 'assisting', 'flexor', 'traversed', 'unusually', 'uppermost', 'cartilage', 'inorganic', 'illuminated', 'glowing', 'contamination', 'trigger', 'masculine', 'defines', 'avoidance', 'residential', 'southeastern', 'penis', 'cracks', 'atlas', 'excitation', 'persia', 'diffuse', 'subdivided', 'alaska', 'guides', 'au', 'sandy', 'penetrating', 'parked']\n",
    "-------\n",
    "zinc\n",
    "['ammonium', 'coating', 'pancreas', 'insoluble', \"alzheimer's\", 'diamond', 'radioactive', 'metallic', 'weighing', 'dysfunction', 'wasting', 'phosphorus', 'transcription', 'dipped', 'hydroxide', 'burns', 'leukemia', 'dietary']\n",
    "-------\n",
    "'''"
   ]
  },
  {
   "cell_type": "code",
   "execution_count": 34,
   "metadata": {
    "application/vnd.databricks.v1+cell": {
     "inputWidgets": {},
     "nuid": "4c83537a-cc0c-4629-9aa1-eaefeb9bfa46",
     "showTitle": false,
     "title": ""
    }
   },
   "outputs": [],
   "source": [
    "# part d - save your full stripes to file for ease of retrival later... (OPTIONAL)\n",
    "stripesRDD.saveAsTextFile(PWD + '/stripes')"
   ]
  },
  {
   "cell_type": "markdown",
   "metadata": {
    "application/vnd.databricks.v1+cell": {
     "inputWidgets": {},
     "nuid": "755130f1-1af3-472e-bd74-3435b7e2939f",
     "showTitle": false,
     "title": ""
    }
   },
   "source": [
    "# Question 8: Synonym Detection\n",
    "\n",
    "We're now ready to perform the main synonym detection analysis. In the tasks below you will compute cosine, jaccard, dice and overlap similarity measurements for each pair of words in our vocabulary and then sort your results to find the most similar pairs of words in this dataset. __`IMPORTANT:`__ When you get to the sorting step please __sort on cosine similarity__ only, so that we can ensure consistent results from student to student. \n",
    "\n",
    "Remember to test each step of your work with the small files before running your code on the full dataset. This is a computationally intense task: well designed code can be the difference between a 20min job and a 2hr job. __`NOTE:`__ _as you are designing your code you may want to review questions 3 and 4 where we modeled some of the key pieces of this analysis._\n",
    "\n",
    "### Q8 Tasks:\n",
    "* __a) short response:__ In question 7 you wrote a function that would create word stripes for each `term` in our vocabulary. These word stripes are essentially an 'embedded representation' of the `term`'s meaning. What is the 'feature space' for this representation? (i.e. what are the features of our 1-hot encoded vectors?). What is the maximum length of a stripe?\n",
    "\n",
    "* __b) short response:__ Remember that we are going to treat these stripes as 'documents' and perform similarity analysis on them. The first step is to emit postings which then get collected to form an 'inverted index.' How many rows will there be in our inverted index? Explain.\n",
    "\n",
    "* __c) short response:__ In the demo from question 2, we were able to compute the cosine similarity directly from the stripes (we did this using their vector form, but could have used the list instead). So why do we need the inverted index?\n",
    "\n",
    "* __d) code:__ Write a spark job that does the following:\n",
    "  * loops over the stripes from Q7 and emits postings for the `term` _(key:term, value:posting)_   \n",
    "  * aggregates the postings to create an inverted index _(key:term, value:list of postings)_\n",
    "  * loops over all pairs of `term`s that appear in the same postings list and emits co-occurrence counts\n",
    "  * aggregates co-occurrences _(key:word pair, value:count + other payload)_\n",
    "  * uses the counts (along with the accompanying information) to compute the cosine, jacard, dice and overlap similarity metrics for each pair of words in the vocabulary \n",
    "  * retrieve the top 20 and bottom 20 most/least similar pairs of words\n",
    "  * also return the cached sorted RDD for use in the next question  \n",
    "  __`NOTE 1`:__ _Don't forget to include the stripe length when you are creating the postings & co-occurrence pairs. A composite key is the way to go here._  \n",
    "  __`NOTE 2`:__ _Please make sure that your final results are sorted according to cosine similarity otherwise your results may not match the expected result & you will be marked wrong._\n",
    "  \n",
    "* __e) code:__ Comment on the quality of the \"synonyms\" your analysis comes up with. Do you notice anything odd about these pairs of words? Discuss at least one idea for how you might go about improving on the analysis."
   ]
  },
  {
   "cell_type": "markdown",
   "metadata": {
    "application/vnd.databricks.v1+cell": {
     "inputWidgets": {},
     "nuid": "c04f1c10-c494-46fa-9c84-7eefb4036894",
     "showTitle": false,
     "title": ""
    }
   },
   "source": [
    "### Q8 Student Answers:\n",
    "> __a)__ Since a stripe only includes terms found in the basis, the maximum length of a stripe is 1000 (size of our basis). The feature space of this representation is the words in the basis; each term can be represented by the presence of the basis words it neighbors.\n",
    "\n",
    "> __b)__ Since the max length of a stripe is 1000 (basis word set size) and we are treating the stripes as documents, these basis words in the stripes will be the keys in our inverted index. Therefore, the number of rows in the inverted index is limited to 1000. \n",
    ">\n",
    "> *Example*: flatmap stripes --> reduced by basis_word keys --> (basis_word1, {word, word2, ...}), (basis_word2, {word3,...}), ... \n",
    "\n",
    "> __c)__ Computing the cosine similarities from the stripes directly involves looping over every combination of words and their respective stripes to compute them. We would need to hold that structure in memory to do these multiple passes through looping. In our problem, we have 10,000 words but if the vocabulary was larger than this method does not scale because the data might become difficult to hold in memory. The inverted index approach reduces the number of rows to the size of our basis (1000 here) and we can do that transformation in a parallel computing framework. We can also turn these inverted indicies into the word pairs we compute the cosine similarity for through a parallelized process. This solution scales much with larger data.\n",
    "\n",
    "> __e)__ The \"synonyms\" in our analysis of the entire dataset contain word pairs featuring one or more of the same repeating words like \"first\", \"time\", \"well\", etc. that do not really look like synonyms. In our choice of the basis, 1000 words from the bottom of our most occuring 10,000 words, we may have these repeating words like  \"first\", \"time\", \"well\", etc. being over-represented and occuring too much. Our choice of the basis is equivalent to choosing our model's feature space. Changing our basis will change our model, so one idea to improve these synonms is **to change which words we use as our basis**. We can experiment with using more frequently occuring words, or even a larger basis (though this will increase the computations). We would start in the Q7 procedure to form new StripesRDD and run Q8d again."
   ]
  },
  {
   "cell_type": "code",
   "execution_count": 35,
   "metadata": {
    "application/vnd.databricks.v1+cell": {
     "inputWidgets": {},
     "nuid": "b56bac93-522f-4c29-8895-3b4844720edb",
     "showTitle": false,
     "title": ""
    }
   },
   "outputs": [],
   "source": [
    "# helper function for pretty printing (RUN THIS CELL AS IS)\n",
    "def displayOutput(lines):\n",
    "    template = \"{:25}|{:6}, {:7}, {:7}, {:5}\"\n",
    "    print(template.format(\"Pair\", \"Cosine\", \"Jaccard\", \"Overlap\", \"Dice\"))\n",
    "    for pair, scores in lines:\n",
    "        scores = [round(s,4) for s in scores]\n",
    "        print(template.format(pair, *scores))"
   ]
  },
  {
   "cell_type": "markdown",
   "metadata": {
    "application/vnd.databricks.v1+cell": {
     "inputWidgets": {},
     "nuid": "97a29461-b203-49cb-8bc1-16127644446c",
     "showTitle": false,
     "title": ""
    }
   },
   "source": [
    "__`TIP:`__ Feel free to define helper functions within the main function to help you organize your code. Readability is important! Eg:\n",
    "```\n",
    "def similarityAnlysis(stripesRDD):\n",
    "    \"\"\"main docstring\"\"\"\n",
    "    \n",
    "    simScoresRDD, top_n, bottom_n = None, None, None\n",
    "    \n",
    "    ############ YOUR CODE HERE ###########\n",
    "    def helper1():\n",
    "        \"\"\"helper docstring\"\"\"\n",
    "        return x\n",
    "        \n",
    "    def helper2():\n",
    "        \"\"\"helper docstring\"\"\"\n",
    "        return x\n",
    "        \n",
    "    # main spark job starts here\n",
    "    \n",
    "        ...etc\n",
    "    ############ (END) YOUR CODE ###########\n",
    "    return simScoresRDD, top_n, bottom_n\n",
    "```"
   ]
  },
  {
   "cell_type": "code",
   "execution_count": 23,
   "metadata": {},
   "outputs": [
    {
     "name": "stdout",
     "output_type": "stream",
     "text": [
      "('best', [('times', 3)])\n",
      "('worst', [('times', 3)])\n",
      "('age', [('times', 3)])\n",
      "[('times', 3), ('times', 3), ('times', 3)]\n"
     ]
    }
   ],
   "source": [
    "test_record = ('times', {'age', 'worst', 'best'})\n",
    "\n",
    "def emitPostings(line:tuple):\n",
    "        \"\"\"\n",
    "        Helper 1: Loops over stripes \n",
    "        to emit basis word as key, tuple of the vocab word & stripe length as value.\n",
    "        \"\"\"\n",
    "        word, nbrs_set = line\n",
    "        stripe_length = len(nbrs_set)\n",
    "        \n",
    "        for term in nbrs_set:\n",
    "            yield (term, [(word, stripe_length)])\n",
    "\n",
    "tmp = []\n",
    "for i in emitPostings(test_record):\n",
    "    print(i)\n",
    "    tmp += i[1]\n",
    "    \n",
    "print(tmp)"
   ]
  },
  {
   "cell_type": "code",
   "execution_count": 24,
   "metadata": {},
   "outputs": [
    {
     "name": "stdout",
     "output_type": "stream",
     "text": [
      "(\"(('anand', 1), ('banana', 4))\", 1)\n",
      "(\"(('anand', 1), ('foolishness', 2))\", 1)\n",
      "(\"(('anand', 1), ('times', 3))\", 1)\n",
      "(\"(('banana', 4), ('foolishness', 2))\", 1)\n",
      "(\"(('banana', 4), ('times', 3))\", 1)\n",
      "(\"(('foolishness', 2), ('times', 3))\", 1)\n"
     ]
    }
   ],
   "source": [
    "test_record2 = ('age', [('times', 3), ('foolishness', 2), ('anand', 1), ('banana', 4)])\n",
    "\n",
    "def emitCowordCounts(line: tuple):\n",
    "        \"\"\"\n",
    "        Helper 2: loops over all pairs of terms that appear in same posting list\n",
    "        emits co-occurence counts and makes composite key\n",
    "        ---\n",
    "        Input: ('age', [('times', 3), ('foolishness', 2), ('anand', 1)])\n",
    "        Output: (\"(('anand', 1), ('banana', 4))\", 1)\n",
    "                (\"(('anand', 1), ('foolishness', 2))\", 1)\n",
    "                (\"(('anand', 1), ('times', 3))\", 1)\n",
    "                (\"(('banana', 4), ('foolishness', 2))\", 1)\n",
    "                (\"(('banana', 4), ('times', 3))\", 1)\n",
    "                (\"(('foolishness', 2), ('times', 3))\", 1)\n",
    "                \n",
    "                (key: composite key of tuple of word pair tuples, value: 1)\n",
    "        \"\"\"\n",
    "        term, postings_list = line\n",
    "        \n",
    "        # taking advantage of symmetry, output only (a,b), but not (b,a)\n",
    "        for subset in itertools.combinations(sorted(postings_list), 2):\n",
    "            yield (str(subset), 1)\n",
    "\n",
    "for i in emitCowordCounts(test_record2):\n",
    "    print(i)\n"
   ]
  },
  {
   "cell_type": "code",
   "execution_count": 40,
   "metadata": {},
   "outputs": [
    {
     "name": "stdout",
     "output_type": "stream",
     "text": [
      "(2, 3, 2)\n"
     ]
    }
   ],
   "source": [
    "test_record3 = (2, 3, 1)\n",
    "test_record4 = (2, 3, 1)\n",
    "\n",
    "def aggregateCowords(record_val_1: tuple, record_val_2: tuple):\n",
    "        \"\"\"\n",
    "        Helper 3: use in reduceByKey to aggregate co-occurrences (key:word pair, value:count + other payload)\n",
    "        ---\n",
    "        Input:  (2, 3, 1)\n",
    "                (2, 3, 1)\n",
    "        Output: (2, 3, 2)\n",
    "        1st element in tuple is stripe count for first word in key-pair (kept same)\n",
    "        2nd element in tuple is stripe count for second word in key-pair (kept same)\n",
    "        3rd element in tuple is co-occurance count for pair (sum this!)\n",
    "        \"\"\"\n",
    "        yield (record_val_1[0], record_val_1[1], record_val_1[2] + record_val_2[2])\n",
    "            \n",
    "for i in aggregateCowords(test_record3, test_record4):\n",
    "    print(i)\n"
   ]
  },
  {
   "cell_type": "code",
   "execution_count": 28,
   "metadata": {},
   "outputs": [
    {
     "name": "stdout",
     "output_type": "stream",
     "text": [
      "('foolishness - times', (0.8164965809277259, 0.6666666666666666, 1.0, 0.8))\n",
      "Pair                     |Cosine, Jaccard, Overlap, Dice \n",
      "foolishness - times      |0.8165,  0.6667,     1.0,   0.8\n"
     ]
    }
   ],
   "source": [
    "test_record5 = (\"(('foolishness', 2), ('times', 3))\", 2)\n",
    "\n",
    "def getSimScores(line: tuple):\n",
    "        \"\"\"\n",
    "        Helper 4: Uses the counts (along with the accompanying information) \n",
    "        to compute the cosine, jaccard, overlap, and dice similarity metrics \n",
    "        for each pair of words in the vocabulary\n",
    "        ----\n",
    "        Input: (key: word pair composite key with counts, value: coword_total\n",
    "                ex. (\"(('foolishness', 2), ('times', 3))\", 2)\n",
    "        Output: (key: word pair, value: (cosine, jaccard, overlap, dice))\n",
    "                ex. ('foolishness - times', (0.8164965809277259, 0.6666666666666666, 1.0, 0.8))\n",
    "        \"\"\"\n",
    "        (doc1, w1_total), (doc2, w2_total) = ast.literal_eval(line[0])\n",
    "        w1_total = int(w1_total)\n",
    "        w2_total = int(w2_total)\n",
    "        coword_total = int(line[1])\n",
    "        word_pair = doc1+\" - \"+doc2\n",
    "        \n",
    "        \n",
    "        cosine = coword_total / (np.sqrt(w1_total) * np.sqrt(w2_total))\n",
    "        jaccard = coword_total / (w1_total + w2_total - coword_total)\n",
    "        overlap = coword_total / min(w1_total, w2_total)\n",
    "        dice = 2*coword_total / (w1_total + w2_total)\n",
    "        \n",
    "        yield (word_pair, (cosine, jaccard, overlap, dice))\n",
    "        \n",
    "for i in getSimScores(test_record5):\n",
    "    print(i)\n",
    "    \n",
    "displayOutput(getSimScores(test_record5))"
   ]
  },
  {
   "cell_type": "code",
   "execution_count": 36,
   "metadata": {
    "application/vnd.databricks.v1+cell": {
     "inputWidgets": {},
     "nuid": "c654dc13-824b-4905-920f-d11443f3d074",
     "showTitle": false,
     "title": ""
    }
   },
   "outputs": [],
   "source": [
    "# part d - write your spark job in the space provided\n",
    "def similarityAnalysis(stripesRDD, n):\n",
    "    \"\"\"\n",
    "    This function defines a Spark DAG to compute cosine, jaccard, \n",
    "    overlap and dice scores for each pair of words in the stripes\n",
    "    provided. \n",
    "    \n",
    "    Output: an RDD, a list of top n, a list of bottom n\n",
    "    \"\"\"\n",
    "    simScoresRDD, top_n, bottom_n = None, None, None\n",
    "    \n",
    "    ############### YOUR CODE HERE ################\n",
    "   \n",
    "    def emitPostings(line:tuple):\n",
    "        \"\"\"\n",
    "        Helper 1: Loops over stripes \n",
    "        to emit basis word as key, tuple of the vocab word & stripe length as value.\n",
    "        \"\"\"\n",
    "        word, nbrs_set = line\n",
    "        stripe_length = len(nbrs_set)\n",
    "        \n",
    "        for term in nbrs_set:\n",
    "            # emit (basis_term, [(vocab_word, stripe_length)])\n",
    "            yield (term, [(word, stripe_length)])\n",
    "\n",
    "\n",
    "    def emitCowordCounts(line: tuple):\n",
    "        \"\"\"\n",
    "        Helper 2: loops over all pairs of terms that appear in same posting list\n",
    "        emits co-occurence counts and makes composite key\n",
    "        ---\n",
    "        Input: ('age', [('times', 3), ('foolishness', 2), ('anand', 1)])\n",
    "        Output: (\"(('anand', 1), ('banana', 4))\", 1)\n",
    "                (\"(('anand', 1), ('foolishness', 2))\", 1)\n",
    "                (\"(('anand', 1), ('times', 3))\", 1)\n",
    "                (\"(('banana', 4), ('foolishness', 2))\", 1)\n",
    "                (\"(('banana', 4), ('times', 3))\", 1)\n",
    "                (\"(('foolishness', 2), ('times', 3))\", 1)\n",
    "                \n",
    "                (key: composite key of tuple of word pair tuples, value: 1)\n",
    "        \"\"\"\n",
    "        term, postings_list = line\n",
    "        \n",
    "        # taking advantage of symmetry, output only (a,b), but not (b,a)\n",
    "        for subset in itertools.combinations(sorted(postings_list), 2):\n",
    "            yield (str(subset), 1)\n",
    "\n",
    "    def getSimScores(line: tuple):\n",
    "        \"\"\"\n",
    "        Helper 4: Uses the counts (along with the accompanying information) \n",
    "        to compute the cosine, jaccard, overlap, and dice similarity metrics \n",
    "        for each pair of words in the vocabulary\n",
    "        ----\n",
    "        Input: (key: word pair composite key with counts, value: coword_total\n",
    "                ex. (\"(('foolishness', 2), ('times', 3))\", 2)\n",
    "        Output: (key: word pair, value: (cosine, jaccard, overlap, dice))\n",
    "                ex. ('foolishness - times', (0.8164965809277259, 0.6666666666666666, 1.0, 0.8))\n",
    "        \"\"\"\n",
    "        (doc1, w1_total), (doc2, w2_total) = ast.literal_eval(line[0])\n",
    "        w1_total = int(w1_total)\n",
    "        w2_total = int(w2_total)\n",
    "        coword_total = int(line[1])\n",
    "        word_pair = doc1+\" - \"+doc2\n",
    "        \n",
    "        \n",
    "        cosine = coword_total / (np.sqrt(w1_total) * np.sqrt(w2_total))\n",
    "        jaccard = coword_total / (w1_total + w2_total - coword_total)\n",
    "        overlap = coword_total / min(w1_total, w2_total)\n",
    "        dice = 2*coword_total / (w1_total + w2_total)\n",
    "        \n",
    "        yield (word_pair, (cosine, jaccard, overlap, dice))\n",
    "\n",
    "\n",
    "\n",
    "    result = stripesRDD.flatMap(emitPostings) \\\n",
    "                        .reduceByKey(lambda a,b: a + b) \\\n",
    "                        .flatMap(emitCowordCounts) \\\n",
    "                        .reduceByKey(lambda a,b: a + b) \\\n",
    "                        .flatMap(getSimScores) \\\n",
    "                        .persist(StorageLevel.MEMORY_AND_DISK)\n",
    "    \n",
    "\n",
    "    # get top n by cosine similarity\n",
    "    top_n = result.takeOrdered(n, key=lambda x: -x[1][0])\n",
    "    \n",
    "    # get top n by cosine similarity\n",
    "    bottom_n = result.takeOrdered(n, key=lambda x: x[1][0])\n",
    "\n",
    "\n",
    "    ############### (END) YOUR CODE ##############\n",
    "    return result, top_n, bottom_n"
   ]
  },
  {
   "cell_type": "code",
   "execution_count": 30,
   "metadata": {
    "application/vnd.databricks.v1+cell": {
     "inputWidgets": {},
     "nuid": "d0eb2822-463a-462a-b71f-f5f84b340b45",
     "showTitle": false,
     "title": ""
    }
   },
   "outputs": [
    {
     "name": "stdout",
     "output_type": "stream",
     "text": [
      "Wall time: 0.29329967498779297 seconds\n"
     ]
    }
   ],
   "source": [
    "# part d - run the system test (RUN THIS CELL AS IS... use display cell below to see results)\n",
    "start = time.time()\n",
    "testResult, top_n, bottom_n = similarityAnalysis(testStripesRDD, 10)\n",
    "print(\"Wall time: {} seconds\".format(time.time() - start))\n",
    "# Wall time: 1.4768586158752441 seconds"
   ]
  },
  {
   "cell_type": "code",
   "execution_count": 31,
   "metadata": {
    "application/vnd.databricks.v1+cell": {
     "inputWidgets": {},
     "nuid": "89790631-03c5-4fad-a582-ae8102ef6f9b",
     "showTitle": false,
     "title": ""
    }
   },
   "outputs": [
    {
     "name": "stdout",
     "output_type": "stream",
     "text": [
      "Wall time: 0.8167994022369385 seconds\n"
     ]
    }
   ],
   "source": [
    "# part d - run the system test (RUN THIS CELL AS IS... use display cell below to see results)\n",
    "start = time.time()\n",
    "f1Result, top_n, bottom_n = similarityAnalysis(f1StripesRDD, 10)\n",
    "print(\"Wall time: {} seconds\".format(time.time() - start))\n",
    "# Wall time: 1.9845571517944336 seconds"
   ]
  },
  {
   "cell_type": "code",
   "execution_count": 32,
   "metadata": {
    "application/vnd.databricks.v1+cell": {
     "inputWidgets": {},
     "nuid": "a770823e-2656-4db3-acf3-cdfc5901de42",
     "showTitle": false,
     "title": ""
    }
   },
   "outputs": [
    {
     "name": "stdout",
     "output_type": "stream",
     "text": [
      "Pair                     |Cosine, Jaccard, Overlap, Dice \n",
      "commentary - lady        |   1.0,     1.0,     1.0,   1.0\n",
      "commentary - learn       |   1.0,     1.0,     1.0,   1.0\n",
      "commentary - owe         |   1.0,     1.0,     1.0,   1.0\n",
      "commentary - really      |   1.0,     1.0,     1.0,   1.0\n",
      "commentary - tone        |   1.0,     1.0,     1.0,   1.0\n",
      "curious - lady           |   1.0,     1.0,     1.0,   1.0\n",
      "curious - owe            |   1.0,     1.0,     1.0,   1.0\n",
      "curious - reply          |   1.0,     1.0,     1.0,   1.0\n",
      "curious - tone           |   1.0,     1.0,     1.0,   1.0\n",
      "lady - owe               |   1.0,     1.0,     1.0,   1.0\n"
     ]
    }
   ],
   "source": [
    "displayOutput(top_n)"
   ]
  },
  {
   "cell_type": "code",
   "execution_count": 33,
   "metadata": {
    "application/vnd.databricks.v1+cell": {
     "inputWidgets": {},
     "nuid": "d7c73eab-154b-49db-9e52-83c6c6a8a8ae",
     "showTitle": false,
     "title": ""
    }
   },
   "outputs": [
    {
     "name": "stdout",
     "output_type": "stream",
     "text": [
      "Pair                     |Cosine, Jaccard, Overlap, Dice \n",
      "part - time              |0.0294,  0.0149,  0.0303, 0.0294\n",
      "time - upon              |0.0314,  0.0159,  0.0345, 0.0312\n",
      "time - two               |0.0314,  0.0159,  0.0345, 0.0312\n",
      "made - time              |0.0325,  0.0164,   0.037, 0.0323\n",
      "first - time             |0.0338,  0.0169,    0.04, 0.0333\n",
      "new - time               |0.0352,  0.0175,  0.0435, 0.0345\n",
      "part - us                |0.0355,  0.0179,  0.0417, 0.0351\n",
      "little - part            |0.0355,  0.0179,  0.0417, 0.0351\n",
      "made - upon              |0.0357,  0.0182,   0.037, 0.0357\n",
      "made - two               |0.0357,  0.0182,   0.037, 0.0357\n"
     ]
    }
   ],
   "source": [
    "displayOutput(bottom_n)"
   ]
  },
  {
   "cell_type": "code",
   "execution_count": 24,
   "metadata": {},
   "outputs": [],
   "source": [
    "# OPTIONAL: Read back in stripesRDD from file\n",
    "stripesRDD = sc.textFile('./stripes').map(lambda x: ast.literal_eval(x)).cache()"
   ]
  },
  {
   "cell_type": "code",
   "execution_count": 26,
   "metadata": {},
   "outputs": [
    {
     "name": "stderr",
     "output_type": "stream",
     "text": [
      "[Stage 21:=====================================>                (131 + 4) / 188]\r"
     ]
    },
    {
     "name": "stdout",
     "output_type": "stream",
     "text": [
      "zones\n",
      "['remotest', 'subdivided', 'warmer', 'buffer', 'localities', 'parks', 'environments', 'uppermost', 'gaza', 'adhesion', 'saturation', 'residential']\n",
      "-------\n",
      "zone\n",
      "['traversed', 'flexor', 'accumulate', 'subdivided', 'unusually', 'persia', 'tribal', 'illuminated', 'sandy', 'inorganic', 'narrower', 'intervening', 'ie', 'diffuse', 'auxiliary', 'parked', 'originate', 'defines', 'residential', 'contamination', 'au', 'atlas', 'avoidance', 'glowing', 'transitional', 'americas', 'alaska', 'penetrating', 'cartilage', 'assisting', 'officially', 'penis', 'fibrous', 'southeastern', 'articular', 'cracks', 'guides', 'buffer', 'poorly', 'excitation', 'uppermost', 'trigger', 'turbulent', 'masculine', 'vomiting', 'saturation']\n",
      "-------\n",
      "zinc\n",
      "['pancreas', 'diamond', 'transcription', 'wasting', 'insoluble', 'hydroxide', 'metallic', 'dietary', \"alzheimer's\", 'leukemia', 'dysfunction', 'coating', 'radioactive', 'ammonium', 'weighing', 'phosphorus', 'dipped', 'burns']\n",
      "-------\n"
     ]
    },
    {
     "name": "stderr",
     "output_type": "stream",
     "text": [
      "                                                                                \r"
     ]
    }
   ],
   "source": [
    "# stripesRDD.top(2)\n",
    "\n",
    "for wrd, stripe in stripesRDD.top(3):\n",
    "    print(wrd)\n",
    "    print(list(stripe))\n",
    "    print('-------')"
   ]
  },
  {
   "cell_type": "code",
   "execution_count": 37,
   "metadata": {
    "application/vnd.databricks.v1+cell": {
     "inputWidgets": {},
     "nuid": "98d0be65-e606-44ab-ac0b-2df0cd9dce3b",
     "showTitle": false,
     "title": ""
    }
   },
   "outputs": [
    {
     "name": "stdout",
     "output_type": "stream",
     "text": [
      "Wall time: 605.7647876739502 seconds\n"
     ]
    }
   ],
   "source": [
    "# part d - run the system test (RUN THIS CELL AS IS... use display cell below to see results)\n",
    "start = time.time()\n",
    "result, top_n, bottom_n = similarityAnalysis(stripesRDD, 20)\n",
    "print(\"Wall time: {} seconds\".format(time.time() - start))\n",
    "# Wall time: 1851.9786894321442 seconds"
   ]
  },
  {
   "cell_type": "code",
   "execution_count": 38,
   "metadata": {
    "application/vnd.databricks.v1+cell": {
     "inputWidgets": {},
     "nuid": "1e276d49-96f1-4f6a-8858-00d804989777",
     "showTitle": false,
     "title": ""
    }
   },
   "outputs": [
    {
     "name": "stdout",
     "output_type": "stream",
     "text": [
      "Pair                     |Cosine, Jaccard, Overlap, Dice \n",
      "first - time             |  0.89,  0.8012,  0.9149, 0.8897\n",
      "time - well              |0.8895,   0.801,   0.892, 0.8895\n",
      "great - time             | 0.875,  0.7757,   0.925, 0.8737\n",
      "part - well              | 0.874,  0.7755,  0.9018, 0.8735\n",
      "first - well             |0.8717,  0.7722,  0.8936, 0.8715\n",
      "part - time              |0.8715,  0.7715,  0.9018, 0.871\n",
      "time - upon              |0.8668,   0.763,  0.9152, 0.8656\n",
      "made - time              | 0.866,  0.7619,  0.9109, 0.8649\n",
      "made - well              |0.8601,  0.7531,  0.9022, 0.8592\n",
      "time - way               |0.8587,  0.7487,  0.9259, 0.8563\n",
      "great - well             |0.8526,  0.7412,  0.8988, 0.8514\n",
      "time - two               |0.8517,  0.7389,  0.9094, 0.8498\n",
      "first - great            |0.8497,  0.7381,  0.8738, 0.8493\n",
      "first - part             |0.8471,  0.7348,  0.8527, 0.8471\n",
      "great - upon             |0.8464,  0.7338,  0.8475, 0.8464\n",
      "upon - well              |0.8444,   0.729,   0.889, 0.8433\n",
      "new - time               |0.8426,   0.724,  0.9133, 0.8399\n",
      "first - two              |0.8411,  0.7249,  0.8737, 0.8405\n",
      "way - well               |0.8357,  0.7146,  0.8986, 0.8335\n",
      "time - us                |0.8357,  0.7105,  0.9318, 0.8308\n"
     ]
    }
   ],
   "source": [
    "displayOutput(top_n)"
   ]
  },
  {
   "cell_type": "code",
   "execution_count": 39,
   "metadata": {
    "application/vnd.databricks.v1+cell": {
     "inputWidgets": {},
     "nuid": "c0d9efbd-b518-4bda-98a2-5bb5f1117f2b",
     "showTitle": false,
     "title": ""
    }
   },
   "outputs": [
    {
     "name": "stdout",
     "output_type": "stream",
     "text": [
      "Pair                     |Cosine, Jaccard, Overlap, Dice \n",
      "region - write           |0.0067,  0.0032,  0.0085, 0.0065\n",
      "relation - snow          |0.0067,  0.0026,  0.0141, 0.0052\n",
      "cardiac - took           |0.0074,  0.0023,  0.0217, 0.0045\n",
      "ever - tumor             |0.0076,   0.002,  0.0263, 0.004\n",
      "came - tumor             |0.0076,   0.002,  0.0263, 0.004\n",
      "let - therapy            |0.0076,   0.003,  0.0161, 0.0059\n",
      "related - stay           |0.0078,  0.0036,  0.0116, 0.0072\n",
      "factors - hear           |0.0078,  0.0039,  0.0094, 0.0077\n",
      "implications - round     |0.0078,  0.0033,  0.0145, 0.0066\n",
      "came - proteins          |0.0079,   0.002,  0.0286, 0.0041\n",
      "population - window      |0.0079,  0.0039,    0.01, 0.0077\n",
      "love - proportional      | 0.008,  0.0029,  0.0185, 0.0058\n",
      "got - multiple           | 0.008,  0.0034,  0.0149, 0.0067\n",
      "changes - fort           |0.0081,  0.0032,  0.0161, 0.0065\n",
      "layer - wife             |0.0081,  0.0038,  0.0119, 0.0075\n",
      "five - sympathy          |0.0081,  0.0034,  0.0149, 0.0068\n",
      "arrival - essential      |0.0081,   0.004,  0.0093, 0.008\n",
      "desert - function        |0.0081,  0.0031,  0.0175, 0.0062\n",
      "fundamental - stood      |0.0081,  0.0038,  0.0115, 0.0077\n",
      "patients - plain         |0.0081,   0.004,  0.0103, 0.0079\n"
     ]
    }
   ],
   "source": [
    "displayOutput(bottom_n)"
   ]
  },
  {
   "cell_type": "markdown",
   "metadata": {
    "application/vnd.databricks.v1+cell": {
     "inputWidgets": {},
     "nuid": "09c78c64-6d5e-4ae0-b098-b7ac7d02830a",
     "showTitle": false,
     "title": ""
    }
   },
   "source": [
    "__Expected output f1RDD:__  \n",
    "<table>\n",
    "<th>MOST SIMILAR:</th>\n",
    "<th>LEAST SIMILAR:</th>\n",
    "<tr><td><pre>\n",
    "Pair                     |Cosine, Jaccard, Overlap, Dice \n",
    "commentary - lady        |   1.0,     1.0,     1.0,   1.0\n",
    "commentary - toes        |   1.0,     1.0,     1.0,   1.0\n",
    "commentary - reply       |   1.0,     1.0,     1.0,   1.0\n",
    "curious - tone           |   1.0,     1.0,     1.0,   1.0\n",
    "curious - lady           |   1.0,     1.0,     1.0,   1.0\n",
    "curious - owe            |   1.0,     1.0,     1.0,   1.0\n",
    "lady - tone              |   1.0,     1.0,     1.0,   1.0\n",
    "reply - tone             |   1.0,     1.0,     1.0,   1.0\n",
    "lady - toes              |   1.0,     1.0,     1.0,   1.0\n",
    "lady - reply             |   1.0,     1.0,     1.0,   1.0\n",
    "</pre></td>\n",
    "<td><pre>\n",
    "\n",
    "Pair                     |Cosine, Jaccard, Overlap, Dice \n",
    "part - time              |0.0294,  0.0149,  0.0303, 0.0294\n",
    "time - upon              |0.0314,  0.0159,  0.0345, 0.0312\n",
    "time - two               |0.0314,  0.0159,  0.0345, 0.0312\n",
    "made - time              |0.0325,  0.0164,   0.037, 0.0323\n",
    "first - time             |0.0338,  0.0169,    0.04, 0.0333\n",
    "new - time               |0.0352,  0.0175,  0.0435, 0.0345\n",
    "part - us                |0.0355,  0.0179,  0.0417, 0.0351\n",
    "little - part            |0.0355,  0.0179,  0.0417, 0.0351\n",
    "made - two               |0.0357,  0.0182,   0.037, 0.0357\n",
    "made - upon              |0.0357,  0.0182,   0.037, 0.0357\n",
    "</pre></td></tr>\n",
    "</table>\n",
    "\n",
    "__Expected output dataRDD:__  \n",
    "<table>\n",
    "<th>Most Similar</th>\n",
    "<th>Least Similar</th>\n",
    "<tr><td><pre>\n",
    "Pair                     |Cosine, Jaccard, Overlap, Dice \n",
    "first - time             |  0.89,  0.8012,  0.9149, 0.8897\n",
    "time - well              |0.8895,   0.801,   0.892, 0.8895\n",
    "great - time             | 0.875,  0.7757,   0.925, 0.8737\n",
    "part - well              | 0.874,  0.7755,  0.9018, 0.8735\n",
    "first - well             |0.8717,  0.7722,  0.8936, 0.8715\n",
    "part - time              |0.8715,  0.7715,  0.9018, 0.871\n",
    "time - upon              |0.8668,   0.763,  0.9152, 0.8656\n",
    "made - time              | 0.866,  0.7619,  0.9109, 0.8649\n",
    "made - well              |0.8601,  0.7531,  0.9022, 0.8592\n",
    "time - way               |0.8587,  0.7487,  0.9259, 0.8563\n",
    "great - well             |0.8526,  0.7412,  0.8988, 0.8514\n",
    "time - two               |0.8517,  0.7389,  0.9094, 0.8498\n",
    "first - great            |0.8497,  0.7381,  0.8738, 0.8493\n",
    "first - part             |0.8471,  0.7348,  0.8527, 0.8471\n",
    "great - upon             |0.8464,  0.7338,  0.8475, 0.8464\n",
    "upon - well              |0.8444,   0.729,   0.889, 0.8433\n",
    "new - time               |0.8426,   0.724,  0.9133, 0.8399\n",
    "first - two              |0.8411,  0.7249,  0.8737, 0.8405\n",
    "way - well               |0.8357,  0.7146,  0.8986, 0.8335\n",
    "time - us                |0.8357,  0.7105,  0.9318, 0.8308\n",
    "\n",
    "</pre></td>\n",
    "<td><pre>\n",
    "Pair                     |Cosine, Jaccard, Overlap, Dice \n",
    "region - write           |0.0067,  0.0032,  0.0085, 0.0065\n",
    "relation - snow          |0.0067,  0.0026,  0.0141, 0.0052\n",
    "cardiac - took           |0.0074,  0.0023,  0.0217, 0.0045\n",
    "ever - tumor             |0.0076,   0.002,  0.0263, 0.004\n",
    "came - tumor             |0.0076,   0.002,  0.0263, 0.004\n",
    "let - therapy            |0.0076,   0.003,  0.0161, 0.0059\n",
    "related - stay           |0.0078,  0.0036,  0.0116, 0.0072\n",
    "factors - hear           |0.0078,  0.0039,  0.0094, 0.0077\n",
    "implications - round     |0.0078,  0.0033,  0.0145, 0.0066\n",
    "came - proteins          |0.0079,   0.002,  0.0286, 0.0041\n",
    "population - window      |0.0079,  0.0039,    0.01, 0.0077\n",
    "love - proportional      | 0.008,  0.0029,  0.0185, 0.0058\n",
    "got - multiple           | 0.008,  0.0034,  0.0149, 0.0067\n",
    "changes - fort           |0.0081,  0.0032,  0.0161, 0.0065\n",
    "layer - wife             |0.0081,  0.0038,  0.0119, 0.0075\n",
    "five - sympathy          |0.0081,  0.0034,  0.0149, 0.0068\n",
    "arrival - essential      |0.0081,   0.004,  0.0093, 0.008\n",
    "desert - function        |0.0081,  0.0031,  0.0175, 0.0062\n",
    "fundamental - stood      |0.0081,  0.0038,  0.0115, 0.0077\n",
    "patients - plain         |0.0081,   0.004,  0.0103, 0.0079\n",
    "</pre></td></tr>\n",
    "</table>"
   ]
  },
  {
   "cell_type": "markdown",
   "metadata": {
    "application/vnd.databricks.v1+cell": {
     "inputWidgets": {},
     "nuid": "63c40693-e756-4efd-985a-7db35c58af83",
     "showTitle": false,
     "title": ""
    }
   },
   "source": [
    "### Congratulations, you have completed HW3! Please refer to the readme for submission instructions.\n",
    "\n",
    "If you would like to provide feedback regarding this homework, please use the survey at: https://docs.google.com/forms/d/e/1FAIpQLSce9feiQeSkdP43A0ZYui1tMGIBfLfzb0rmgToQeZD9bXXX8Q/viewform"
   ]
  },
  {
   "cell_type": "code",
   "execution_count": null,
   "metadata": {
    "application/vnd.databricks.v1+cell": {
     "inputWidgets": {},
     "nuid": "0f095b6f-0866-4e3e-91ec-7ae65e5fa9d0",
     "showTitle": false,
     "title": ""
    }
   },
   "outputs": [],
   "source": []
  }
 ],
 "metadata": {
  "application/vnd.databricks.v1+notebook": {
   "dashboards": [],
   "language": "python",
   "notebookName": "hw3_Workbook_revF20",
   "notebookOrigID": 2162291293013809,
   "widgets": {}
  },
  "kernelspec": {
   "display_name": "Python 3",
   "language": "python",
   "name": "python3"
  },
  "language_info": {
   "codemirror_mode": {
    "name": "ipython",
    "version": 3
   },
   "file_extension": ".py",
   "mimetype": "text/x-python",
   "name": "python",
   "nbconvert_exporter": "python",
   "pygments_lexer": "ipython3",
   "version": "3.8.12"
  }
 },
 "nbformat": 4,
 "nbformat_minor": 4
}
